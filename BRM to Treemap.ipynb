{
 "cells": [
  {
   "cell_type": "markdown",
   "id": "d0a9f498",
   "metadata": {},
   "source": [
    "# Documentation and Variable Declarations"
   ]
  },
  {
   "cell_type": "markdown",
   "id": "43b8d86d",
   "metadata": {},
   "source": [
    "Purpose: The purpose of this notebook is to map the BRM short names to the BIM and visualize the data with a plotly treemap. \n",
    "\n",
    "\n",
    "Author: James Hicks\n",
    "\n",
    "Date: 11/15/2021\n",
    "\n",
    "INPUT:\n",
    "1. The BRM dataset (see brmFileName)\n",
    "\n",
    "OUTPUT:\n",
    "1. An HTML file that shows all of the data (see htmlName3)\n",
    "2. An HTML file that shows ~50% of the data (see htmlName1)\n",
    "3. An HTML file that shows the other ~50% of the data (see htmlName2)\n",
    "4. A JSON file that contains all of the data formatted for a d3 treemap"
   ]
  },
  {
   "cell_type": "code",
   "execution_count": 1,
   "id": "6e687984",
   "metadata": {},
   "outputs": [],
   "source": [
    "#==========IMPORTS==========\n",
    "import pandas as pd\n",
    "import copy\n",
    "import plotly.express as px\n",
    "import json\n",
    "import string"
   ]
  },
  {
   "cell_type": "code",
   "execution_count": 62,
   "id": "5a4311d7",
   "metadata": {},
   "outputs": [],
   "source": [
    "#==========VARIABLE DECLARATIONS==========\n",
    "\n",
    "#input file names\n",
    "brmFileName='BRM 7.0.xlsx'\n",
    "\n",
    "#output file names\n",
    "#the first 2 html files (part 1 and 2) are created for PNG export for powerpoint slides\n",
    "#the last html file (all data) is not intended to be converted to a PNG \n",
    "htmlName1='BIM Plotly Treemap Part 1.html'\n",
    "htmlName2='BIM Plotly Treemap Part 2.html'\n",
    "htmlName3='BIM Plotly Treemap All Data.html'\n",
    "plotNameBase='VA Business Information Model (BIM)'\n",
    "\n",
    "jsonFileName='BRM JSON Data.json'\n",
    "\n",
    "#duplicate name string \n",
    "duplicatedName='Research Proposals' #we manually use the full name to fix this duplicate\n",
    "duplicatedConcatValues=['Write ','Evaluate ']#these are the strings that are concatenated to fix the duplicates\n",
    "\n",
    "#placeholder value for parents with no children\n",
    "#this value is also appended to parents with an odd number of children to improve the aesthetic of the final visuals\n",
    "placeholderValue='\\n'\n",
    "#d3 placeholder is used to sort the output alphabetically. it is replaced with ''\n",
    "d3Placeholder='zzzzzzzzzz'\n",
    "\n",
    "#base value for treemap square size and the incremental step value \n",
    "#the step value is used to force alphabetical order by changing the treemap value\n",
    "baseValue=1\n",
    "stepValue=.0000001\n",
    "\n",
    "#this number represents the number of characters to use as a cutoff point\n",
    "#if a parent name reaches the cutoff point, the last word is replaced with the elipseValueStr for a better png output\n",
    "elipseValue=29\n",
    "elipseValueStr='...'\n",
    "\n",
    "#colors for the plotly - these match the original colors\n",
    "rootColor='#162c52'\n",
    "parentColor='#5373b0'\n",
    "childColor='lightgray'\n",
    "\n",
    "#colors for the d3 visualization \n",
    "childColord3=\"#a6adad\"\n",
    "backgroundColord3=\"#234b8c\"\n",
    "\n",
    "#the following iFAM numbers have a missing 0 from excel and need to be added\n",
    "addZeroList=['MEM001','TRT001']\n",
    "\n",
    "#list of necessary column names for our work\n",
    "brmColNames=['VA BRM Number','VA BRM Short Name','Level','iFAM Number']\n",
    "\n",
    "#set height and width for the part 1 and 2 plots to scale well for a powerpoint slide\n",
    "plotHeight=1600\n",
    "plotWidth=2850\n",
    "\n",
    "#plot height and width for the HTML output containing all data\n",
    "plotHeightAllData=3900\n",
    "plotWidthAllData=1650"
   ]
  },
  {
   "cell_type": "markdown",
   "id": "9b553315",
   "metadata": {},
   "source": [
    "# Read in and Cleaning"
   ]
  },
  {
   "cell_type": "code",
   "execution_count": 3,
   "id": "965cadc0",
   "metadata": {},
   "outputs": [],
   "source": [
    "#==========READ IN DATA==========\n",
    "brmRawData=pd.read_excel(brmFileName)"
   ]
  },
  {
   "cell_type": "code",
   "execution_count": 4,
   "id": "d79f4c1e",
   "metadata": {},
   "outputs": [],
   "source": [
    "#==========FIX THE MISSING 0'S AND TYPECAST==========\n",
    "\n",
    "#make a copy to edit\n",
    "brmData=copy.deepcopy(brmRawData[brmColNames])\n",
    "#type cast to str\n",
    "brmData=brmData.astype(str)\n",
    "\n",
    "#==========BRM ADD MISSING 0'S ========= THIS CAN PROBABLY BE DELETED/COMMENTED OUT IN PALENTIR\n",
    "#get the rows that are known to have the dropped 0 problem by iFAM number\n",
    "rowsToChange=copy.deepcopy(brmData[brmData['iFAM Number'].isin(addZeroList)])\n",
    "#add the 0\n",
    "rowsToChange['VA BRM Number']=rowsToChange['VA BRM Number']+'0'\n",
    "#remove the originals\n",
    "brmData=brmData[~brmData['iFAM Number'].isin(addZeroList)]\n",
    "#append the fixed rows\n",
    "brmData=brmData.append(rowsToChange,ignore_index=True)\n"
   ]
  },
  {
   "cell_type": "code",
   "execution_count": 5,
   "id": "440431e8",
   "metadata": {},
   "outputs": [],
   "source": [
    "#==========ISOLATE PARENT AND CHILD DATA==========\n",
    "\n",
    "#filter to only get levels of interest - these values represent half of the primary key\n",
    "levelValues=['Capability','Service']#parent, child\n",
    "brmData=brmData[brmData['Level'].isin(levelValues)]\n",
    "#declare dataset of parents\n",
    "capabilityData=brmData[brmData['Level']==levelValues[0]]\n",
    "#declare dataset of children\n",
    "serviceData=brmData[brmData['Level']==levelValues[1]]"
   ]
  },
  {
   "cell_type": "code",
   "execution_count": 6,
   "id": "4c32ec01",
   "metadata": {},
   "outputs": [],
   "source": [
    "#==========FIX REPEATED VALUES==========\n",
    "\n",
    "#find the index of the repeated values to fix\n",
    "repeatIndexList=list(serviceData.index[serviceData['VA BRM Short Name']==duplicatedName])\n",
    "#fix the duplicated name by appending the full name to it\n",
    "serviceData.at[repeatIndexList[0],'VA BRM Short Name']=duplicatedConcatValues[0]+duplicatedName\n",
    "serviceData.at[repeatIndexList[1],'VA BRM Short Name']=duplicatedConcatValues[1]+duplicatedName"
   ]
  },
  {
   "cell_type": "markdown",
   "id": "bfb1447b",
   "metadata": {},
   "source": [
    "# Map Parents and Children"
   ]
  },
  {
   "cell_type": "code",
   "execution_count": 7,
   "id": "47581855",
   "metadata": {},
   "outputs": [],
   "source": [
    "#==========MAP THE PARENTS TO THE CHILDREN==========\n",
    "\n",
    "#output dataframe as relationshipDf\n",
    "\n",
    "data=[]#this is used to hold values and convert into the final dataframe of mapped values\n",
    "#for each capability, get all of the children and put into the relationshipDf\n",
    "fullParentList=[]\n",
    "for i,row in capabilityData.iterrows():#for each capability\n",
    "    tempBrm=row[0]\n",
    "    tempParentName=row[1]#get the brm and name\n",
    "    #now use the BRM # to get the rows in \n",
    "    tempKids=serviceData[serviceData['VA BRM Number'].str.startswith(tempBrm+'.')]#add the . to finalize the parent\n",
    "    #for example, search 1.1.etc will not find 1.10.etc\n",
    "    #data.append([tempParentName,'']) # if this line gets uncommented it will add in a row for each parent\n",
    "    #for each row of the kids get generate a list that maps parent to child text\n",
    "    fullParentList.append(tempParentName)\n",
    "    for i2,row2 in tempKids.iterrows():#add a row for each child\n",
    "        tempShort=row2[1]\n",
    "        tempList=[tempShort,tempParentName]\n",
    "        data.append(tempList)\n",
    "    \n",
    "#combine all of the rows into a dataframe\n",
    "relationshipDf=pd.DataFrame(data, columns=['Name','Parent'])"
   ]
  },
  {
   "cell_type": "markdown",
   "id": "d74fa277",
   "metadata": {},
   "source": [
    "# Format for Plotly"
   ]
  },
  {
   "cell_type": "code",
   "execution_count": 8,
   "id": "97cb1934",
   "metadata": {},
   "outputs": [],
   "source": [
    "#==========ADD THE VALUE COLUMN==========\n",
    "\n",
    "#add in a value column to make each square the same size in the treemap - this gets modified later\n",
    "relationshipDf['Value']=baseValue"
   ]
  },
  {
   "cell_type": "code",
   "execution_count": 9,
   "id": "1ee84393",
   "metadata": {},
   "outputs": [],
   "source": [
    "#==========ADD PLACEHOLDER CHILDREN==========\n",
    "\n",
    "#for parents with no kids or an odd number, add one placeholder\n",
    "\n",
    "#create a list of parents without children\n",
    "noChildList=[]\n",
    "#for each parent check to see if extra boxes are necessary for a more consistent output\n",
    "for currentParent in fullParentList:\n",
    "    tempData=relationshipDf[relationshipDf['Parent']==currentParent]\n",
    "    tempNKids=len(tempData)\n",
    "    if(tempNKids%2==1):\n",
    "        tempData={'Name':placeholderValue,'Parent':currentParent,'Value':1}\n",
    "        relationshipDf=relationshipDf.append(tempData,ignore_index=True)\n",
    "    elif(tempNKids==0):\n",
    "        noChildList.append(currentParent)\n",
    "        tempData={'Name':placeholderValue,'Parent':currentParent,'Value':1}\n",
    "        relationshipDf=relationshipDf.append(tempData,ignore_index=True)"
   ]
  },
  {
   "cell_type": "code",
   "execution_count": 10,
   "id": "0841451c",
   "metadata": {},
   "outputs": [],
   "source": [
    "#==========FORCE ALPHABETICAL ORDER USING THE VALUE COLUMN==========\n",
    "\n",
    "#this becomes a list containing each parent dataset \n",
    "smallData=[]\n",
    "\n",
    "#for each mini dataset\n",
    "for currentParent in fullParentList:\n",
    "    tempData=copy.deepcopy(relationshipDf[relationshipDf['Parent']==currentParent])\n",
    "    tempNKids=len(tempData)\n",
    "    \n",
    "    #this case shouldn't occur\n",
    "    if(tempNKids==0):\n",
    "        print('There is a parent with no children that should have a placeholder value:',currentParent)\n",
    "        next\n",
    "    elif(tempNKids==1):#one child does not need any size adjustments\n",
    "        smallData.append(tempData)\n",
    "    else:\n",
    "        #sort by name value and remove the old index column\n",
    "        tempData=tempData.sort_values('Name')\n",
    "        tempData=tempData.reset_index()\n",
    "        del tempData['index']\n",
    "        #get the list of values\n",
    "        tempValues=list(tempData['Value'])\n",
    "        tempNames=list(tempData['Name'])\n",
    "        firstName=tempNames[0]\n",
    "        for i in range(0,len(tempValues)):\n",
    "            if(i==0):#base\n",
    "                if(firstName==placeholderValue):\n",
    "                    tempValues[i]=baseValue-stepValue*len(tempValues)\n",
    "            else:#make each one smaller as the loop progresses\n",
    "                tempValues[i]=baseValue-stepValue*i\n",
    "        #set the new values\n",
    "        tempData['Value']=tempValues\n",
    "        #add the rows to the list of new rows\n",
    "        smallData.append(tempData)\n",
    "        \n",
    "#combine all of the new rows to overwrite the old data\n",
    "relationshipDf=pd.concat(smallData,ignore_index=True)"
   ]
  },
  {
   "cell_type": "code",
   "execution_count": 11,
   "id": "8392bce8",
   "metadata": {},
   "outputs": [],
   "source": [
    "#==========ADD HTML DISPLAY VALUES FOR THE PLOTLY==========\n",
    "\n",
    "#add html new lines for cleaner output\n",
    "relationshipDf['Name']=relationshipDf['Name'].str.replace(' ','<br>')#replace spaces with html breakline\n",
    "relationshipDf['Name']=relationshipDf['Name'].str.replace('/','<br>')\n",
    "\n",
    "#replace multiple breaklines in a row with one \n",
    "relationshipDf['Name']=relationshipDf['Name'].str.replace('<br><br>','<br>')#replace double new line with one\n",
    "relationshipDf['Name']=relationshipDf['Name'].str.replace('<br><br>','<br>')\n",
    "#replace any html tags that are alone with the placeholder value \n",
    "relationshipDf['Name']=relationshipDf['Name'].str.replace('<b><br></b>',placeholderValue)\n",
    "\n",
    "#add bold tag to make it look/feel the same as the old vis\n",
    "relationshipDf['Name']='<b>'+relationshipDf['Name'].astype(str)+'</b>'\n",
    "relationshipDf['Parent']='<b>'+relationshipDf['Parent'].astype(str)+'</b>'\n",
    "relationshipDf['Name']=relationshipDf['Name'].str.replace('<b>'+placeholderValue+'</b>',placeholderValue)\n"
   ]
  },
  {
   "cell_type": "code",
   "execution_count": 12,
   "id": "f0c66096",
   "metadata": {},
   "outputs": [],
   "source": [
    "#==========CREATE COLOR MAPPING==========\n",
    "\n",
    "#for each child set the color\n",
    "fullChildList=list(relationshipDf['Name'])#+['<b>'+placeholderValue+'</b>']\n",
    "colorDict={key: childColor for key in fullChildList}\n",
    "\n",
    "#anything else (parents) gets the parent color \n",
    "colorDict['(?)']=parentColor #this represents the parent nodes\n",
    "colorDict[placeholderValue]=parentColor"
   ]
  },
  {
   "cell_type": "code",
   "execution_count": 13,
   "id": "31de6f07",
   "metadata": {},
   "outputs": [],
   "source": [
    "#==========SORT THE DATAFRAME ALPHABETICALLY==========\n",
    "\n",
    "#sort to find the midpoint without removing children from their parents\n",
    "\n",
    "#sort by parent value \n",
    "relationshipDf=relationshipDf.sort_values('Parent')\n",
    "#reset index\n",
    "relationshipDf=relationshipDf.reset_index()\n",
    "del relationshipDf['index']"
   ]
  },
  {
   "cell_type": "code",
   "execution_count": 14,
   "id": "622676e6",
   "metadata": {},
   "outputs": [],
   "source": [
    "#==========FIND THE MIDPOINT FOR PART 1 AND 2==========\n",
    "\n",
    "#create a range to look through parents with\n",
    "totalLen=len(relationshipDf)\n",
    "lowerBound=int(totalLen/2)-3\n",
    "upperBound=int(totalLen/2)+10\n",
    "#get the values in range\n",
    "shortParentList=list(relationshipDf[lowerBound:upperBound]['Parent'])\n",
    "#set an index and last value to compare\n",
    "midIndex=0\n",
    "lastValue=shortParentList[0]\n",
    "for value in shortParentList:\n",
    "    if(value!=lastValue):\n",
    "        break\n",
    "    else:\n",
    "        midIndex=midIndex+1\n",
    "        \n",
    "#final output midpoint is midIndex\n",
    "midIndex=midIndex+lowerBound"
   ]
  },
  {
   "cell_type": "code",
   "execution_count": 15,
   "id": "623bf249",
   "metadata": {},
   "outputs": [],
   "source": [
    "#==========FIND ELIPSE VARIABLE NAMES==========\n",
    "\n",
    "#find all of the parent names that are too long based on the elipse cutoff variable \n",
    "# and add to the nochild list to shorten them\n",
    "\n",
    "longNameList=[]\n",
    "for value in fullParentList:\n",
    "    tempLen=len(value)\n",
    "    if(tempLen>elipseValue):\n",
    "        noChildList.append(value)"
   ]
  },
  {
   "cell_type": "code",
   "execution_count": 16,
   "id": "80352407",
   "metadata": {},
   "outputs": [],
   "source": [
    "#==========REPLACE ELIPSE STRING VALUES==========\n",
    "\n",
    "#for each name with no children or a name that is too long, drop the last word and add \"...\"\n",
    "\n",
    "noChildListShort=[]\n",
    "for i in range(0,len(noChildList)):\n",
    "    tempValue=noChildList[i]\n",
    "    tempValue=tempValue.rsplit(' ',1)[0]\n",
    "    tempValue=tempValue+elipseValueStr\n",
    "    noChildListShort.append(tempValue)\n",
    "    \n",
    "#then create a dictionary for easy replacement in the dataframe\n",
    "replaceParentDict={}\n",
    "for key in noChildList:\n",
    "    for value in noChildListShort:\n",
    "        replaceParentDict[key]=value\n",
    "        noChildListShort.remove(value)\n",
    "        break"
   ]
  },
  {
   "cell_type": "code",
   "execution_count": 17,
   "id": "e5af9892",
   "metadata": {},
   "outputs": [],
   "source": [
    "#==========CREATE A NEW COLUMN WITH THE SHORTENED NAMES==========\n",
    "\n",
    "#add a column with slightly different parent names for the powerpoint version\n",
    "\n",
    "#duplicate to make changes\n",
    "relationshipDf['ParentShort']=relationshipDf['Parent']\n",
    "#remove html bold\n",
    "relationshipDf['ParentShort']=relationshipDf['ParentShort'].str.replace('<b>','')\n",
    "relationshipDf['ParentShort']=relationshipDf['ParentShort'].str.replace('</b>','')\n",
    "#replace the last word of all parents without children\n",
    "relationshipDf=relationshipDf.replace({'ParentShort' : replaceParentDict})\n",
    "#add the bold back \n",
    "relationshipDf['ParentShort']='<b>'+relationshipDf['ParentShort'].astype(str)+'</b>'"
   ]
  },
  {
   "cell_type": "markdown",
   "id": "57103f7d",
   "metadata": {},
   "source": [
    "# Create the Visualizations"
   ]
  },
  {
   "cell_type": "markdown",
   "id": "f27e986a",
   "metadata": {},
   "source": [
    "## HTML All Data"
   ]
  },
  {
   "cell_type": "code",
   "execution_count": 18,
   "id": "92382371",
   "metadata": {},
   "outputs": [],
   "source": [
    "#==========CREATE TREEMAP USING ALL DATA==========\n",
    "\n",
    "fig=px.treemap(relationshipDf,path=['Parent','Name'],values='Value',\n",
    "               color='Name',color_discrete_map=colorDict)\n",
    "fig.update_traces(root_color=rootColor)\n",
    "fig.update_layout(uniformtext=dict(minsize=13, mode='show'))\n",
    "fig.update_layout(autosize=False,width=plotWidthAllData,height=plotHeightAllData)\n",
    "fig.update_layout(title_text=plotNameBase,font=dict(size=13,color=\"Black\"))\n",
    "fig.data[0].hovertemplate='Name=%{label}<br>Parent=%{parent}'\n",
    "fig.write_html(htmlName3)"
   ]
  },
  {
   "cell_type": "markdown",
   "id": "f6f6cc0f",
   "metadata": {},
   "source": [
    "## HTML Parts 1 & 2"
   ]
  },
  {
   "cell_type": "code",
   "execution_count": 19,
   "id": "3e7033a7",
   "metadata": {},
   "outputs": [],
   "source": [
    "#==========CREATE TREEMAP PART 1 USING 50% OF THE DATA ==========\n",
    "\n",
    "#create a second treemap using the first ~50% of the data\n",
    "fig=px.treemap(relationshipDf[0:midIndex],path=['ParentShort','Name'],values='Value',\n",
    "               color='Name',color_discrete_map=colorDict)\n",
    "fig.update_traces(root_color=rootColor)\n",
    "fig.update_layout(uniformtext=dict(minsize=13, mode='show'))\n",
    "fig.update_layout(autosize=False,width=plotWidth,height=plotHeight)\n",
    "fig.update_layout(title_text=plotNameBase+' Part 1/2',font=dict(size=13,color=\"Black\"))\n",
    "fig.data[0].hovertemplate='Name=%{label}<br>Parent=%{parent}'\n",
    "fig.write_html(htmlName1)"
   ]
  },
  {
   "cell_type": "code",
   "execution_count": 20,
   "id": "0dee355b",
   "metadata": {},
   "outputs": [],
   "source": [
    "#==========CREATE TREEMAP PART 2 USING 50% OF THE DATA ==========\n",
    "\n",
    "#create a second treemap using the other ~50% of the data\n",
    "fig=px.treemap(relationshipDf[midIndex:len(relationshipDf)],path=['ParentShort','Name'],values='Value',\n",
    "               color='Name',color_discrete_map=colorDict)\n",
    "fig.update_traces(root_color=rootColor)\n",
    "fig.update_layout(uniformtext=dict(minsize=13, mode='show'))\n",
    "fig.update_layout(autosize=False,width=plotWidth,height=plotHeight)\n",
    "fig.update_layout(title_text=plotNameBase+' Part 2/2',font=dict(size=13,color=\"Black\"))\n",
    "fig.data[0].hovertemplate='Name=%{label}<br>Parent=%{parent}'\n",
    "fig.write_html(htmlName2)"
   ]
  },
  {
   "cell_type": "markdown",
   "id": "038d9e43",
   "metadata": {},
   "source": [
    "# Export Data for D3"
   ]
  },
  {
   "cell_type": "code",
   "execution_count": 72,
   "id": "e256a9b8",
   "metadata": {},
   "outputs": [],
   "source": [
    "#==========DECLARE FUNCTIONS TO CREATE THE JSON OUTPUT==========\n",
    "\n",
    "def find_element(children_list,name):\n",
    "    \"\"\"\n",
    "    Find element in children list\n",
    "    if exists or return none\n",
    "    \"\"\"\n",
    "    for i in children_list:\n",
    "        if i[\"name\"] == name:\n",
    "            return i\n",
    "    #If not found return None\n",
    "    return None\n",
    "\n",
    "def add_node(path,value,nest,colNameVal,groupVal,colorVal):\n",
    "    \"\"\"\n",
    "    The path is a list.  Each element is a name that corresponds \n",
    "    to a level in the final nested dictionary.  \n",
    "    \"\"\"\n",
    "    #Get first name from path\n",
    "    this_name = path.pop(0)\n",
    "    #Does the element exist already?\n",
    "    element = find_element(nest[\"children\"], this_name)\n",
    "\n",
    "    #If the element exists, we can use it, otherwise we need to create a new one\n",
    "    if element:\n",
    "        if len(path)>0:\n",
    "            add_node(path,value, element,colNameVal,groupVal,colorVal)\n",
    "    #Else it does not exist so create it and return its children\n",
    "    else:\n",
    "        if len(path) == 0:\n",
    "            nest[\"children\"].append({\"name\": this_name, \"value\": value,\"colname\":colNameVal,\"group\":groupVal,\"color\":colorVal})\n",
    "        else:\n",
    "            #Add new element\n",
    "            nest[\"children\"].append({\"name\": this_name, \"children\":[]})\n",
    "            #Get added element \n",
    "            element = nest[\"children\"][-1]\n",
    "            #Still elements of path left so recurse\n",
    "            add_node(path,value, element,colNameVal,groupVal,colorVal)"
   ]
  },
  {
   "cell_type": "code",
   "execution_count": 54,
   "id": "0d9e9f42",
   "metadata": {},
   "outputs": [],
   "source": [
    "#==========MODIFY THE PLOTLY DATA FOR D3 FORMATTING - INITIAL FORMATTING==========\n",
    "\n",
    "#Make a copy to edit\n",
    "d3Data=copy.deepcopy(relationshipDf)\n",
    "\n",
    "#in each string column, remove the HTML values that were put in for the plotly formatting\n",
    "colList=list(d3Data.columns)\n",
    "colList.remove('Value')\n",
    "for key in colList:\n",
    "    d3Data[key]=d3Data[key].str.replace('<b>','')\n",
    "    d3Data[key]=d3Data[key].str.replace('</b>','')\n",
    "    d3Data[key]=d3Data[key].str.replace('<br>',' ')\n",
    "    #replace the d3 placeholers with zzzs to sort\n",
    "    d3Data[key]=d3Data[key].str.replace('\\n',d3Placeholder)\n",
    "#drop the short column\n",
    "d3Data=d3Data.drop('ParentShort',1)\n",
    "#add in the colname column to match the d3 expected format\n",
    "d3Data['colname']='level3'"
   ]
  },
  {
   "cell_type": "code",
   "execution_count": 55,
   "id": "d72ac8b9",
   "metadata": {},
   "outputs": [],
   "source": [
    "#==========MODIFY THE PLOTLY DATA FOR D3 FORMATTING - ADD THE GROUP COLUMN==========\n",
    "\n",
    "#add in the group column\n",
    "groupCol=list(d3Data['Parent'])\n",
    "\n",
    "#set a current parent value for comparison\n",
    "currentParent=groupCol[0]\n",
    "#create a list of 52 characters to act as the group labels. In the future if this needs to be expanded, make the alphabet list longer\n",
    "alphabet=list(string.ascii_uppercase)+list(string.ascii_lowercase)\n",
    "alphaIndex=0\n",
    "\n",
    "for i in range(0,len(groupCol)):\n",
    "    currentValue=groupCol[i]\n",
    "    #if the current value matches the parent, set the value\n",
    "    if(currentValue==currentParent):\n",
    "        groupCol[i]=alphabet[alphaIndex]\n",
    "    #the value doesn't match, so increment and set new current\n",
    "    else:\n",
    "        currentParent=currentValue\n",
    "        alphaIndex=alphaIndex+1\n",
    "        #if(i==len(groupCol)):\n",
    "        groupCol[i]=alphabet[alphaIndex]\n",
    "d3Data['group']=groupCol"
   ]
  },
  {
   "cell_type": "code",
   "execution_count": 56,
   "id": "5f174ed5",
   "metadata": {},
   "outputs": [],
   "source": [
    "#==========MODIFY THE PLOTLY DATA FOR D3 FORMATTING - SORT ALPHABETICALLY==========\n",
    "\n",
    "#sort the d3 dataframe alphabetically by 2 cols\n",
    "d3Data=d3Data.sort_values(by = ['Parent', 'Name'], ascending = [True, True], na_position = 'first')\n",
    "#replace the placeholders with empty string now that the sort is finished\n",
    "d3Data['Name']=d3Data['Name'].str.replace(d3Placeholder,'')"
   ]
  },
  {
   "cell_type": "code",
   "execution_count": 64,
   "id": "f356ee5d",
   "metadata": {},
   "outputs": [],
   "source": [
    "#==========MODIFY THE PLOTLY DATA FOR D3 FORMATTING - ADD COLOR COLUMN==========\n",
    "\n",
    "#for each row where the name is placeholder, set the color to be the same as the background\n",
    "currentPlaceholder=''\n",
    "#loop through all of the names and compare the current name to the placeholder value\n",
    "nameList=list(d3Data['Name'])\n",
    "for i in range(0,len(nameList)):\n",
    "    currentValue=nameList[i]\n",
    "    if(currentValue==currentPlaceholder):#set as background\n",
    "        nameList[i]=backgroundColord3\n",
    "    else:\n",
    "        nameList[i]=childColord3#set as normal child node color\n",
    "d3Data['Color']=nameList"
   ]
  },
  {
   "cell_type": "code",
   "execution_count": 73,
   "id": "277cc997",
   "metadata": {},
   "outputs": [],
   "source": [
    "#==========CREATE THE JSON OUTPUT==========\n",
    "output = {\"children\": []}\n",
    "\n",
    "levels = [\"Parent\",\"Name\"]\n",
    "for row in d3Data.iterrows():\n",
    "    r = row[1]\n",
    "    path = list(r[levels])\n",
    "    value = r[\"Value\"]\n",
    "    colnameValue=r['colname']\n",
    "    groupValue=r['group']\n",
    "    colorValue=r['Color']\n",
    "    add_node(path,value,output,colnameValue,groupValue,colorValue)\n",
    "\n",
    "#print(json.dumps(d, sort_keys=False,indent=2))"
   ]
  },
  {
   "cell_type": "code",
   "execution_count": 74,
   "id": "d6dcb8af",
   "metadata": {},
   "outputs": [],
   "source": [
    "#==========SAVE THE JSON OUTPUT==========\n",
    "with open(jsonFileName,'w') as outputFile:\n",
    "    json.dump(output,outputFile,indent=4)"
   ]
  },
  {
   "cell_type": "code",
   "execution_count": null,
   "id": "4ef6455a",
   "metadata": {},
   "outputs": [],
   "source": []
  }
 ],
 "metadata": {
  "kernelspec": {
   "display_name": "Python 3",
   "language": "python",
   "name": "python3"
  },
  "language_info": {
   "codemirror_mode": {
    "name": "ipython",
    "version": 3
   },
   "file_extension": ".py",
   "mimetype": "text/x-python",
   "name": "python",
   "nbconvert_exporter": "python",
   "pygments_lexer": "ipython3",
   "version": "3.8.8"
  }
 },
 "nbformat": 4,
 "nbformat_minor": 5
}
