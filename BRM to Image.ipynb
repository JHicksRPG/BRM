{
 "cells": [
  {
   "cell_type": "markdown",
   "id": "43b8d86d",
   "metadata": {},
   "source": [
    "The purpose of this notebook is to map the BRM short names to the BIM/EIM. \n",
    "\n",
    "Author: James Hicks\n",
    "Date: 11/9/2021\n",
    "\n",
    "INPUT:\n",
    "1. The BRM dataset (see brmFileName)"
   ]
  },
  {
   "cell_type": "code",
   "execution_count": 116,
   "id": "6e687984",
   "metadata": {},
   "outputs": [],
   "source": [
    "#imports\n",
    "import pandas as pd\n",
    "import copy\n",
    "import matplotlib.pyplot as plt\n",
    "from matplotlib.pyplot import figure\n",
    "import matplotlib.patches as patches\n",
    "import plotly.express as px\n",
    "import textwrap"
   ]
  },
  {
   "cell_type": "code",
   "execution_count": 117,
   "id": "5a4311d7",
   "metadata": {},
   "outputs": [],
   "source": [
    "#variables\n",
    "\n",
    "#input file name\n",
    "brmFileName='BRM 7.0.xlsx'\n",
    "\n",
    "#duplicate name string \n",
    "duplicatedName='Research Proposals'\n",
    "duplicatedConcatValues=['Write ','Evaluate ']\n",
    "\n",
    "\n",
    "#the following iFAM numbers have a missing 0 from excel and need to be added\n",
    "addZeroList=['MEM001','TRT001']"
   ]
  },
  {
   "cell_type": "code",
   "execution_count": 118,
   "id": "965cadc0",
   "metadata": {},
   "outputs": [],
   "source": [
    "#read in data\n",
    "brmRawData=pd.read_excel(brmFileName)"
   ]
  },
  {
   "cell_type": "code",
   "execution_count": 119,
   "id": "d79f4c1e",
   "metadata": {},
   "outputs": [],
   "source": [
    "#necessary column names for our work\n",
    "brmColNames=['VA BRM Number','VA BRM Short Name','Level','iFAM Number']\n",
    "\n",
    "#make a copy to edit\n",
    "brmData=copy.deepcopy(brmRawData[brmColNames])\n",
    "#type cast to str\n",
    "brmData=brmData.astype(str)\n",
    "\n",
    "#==========BRM ADD MISSING 0'S ========= THIS CAN PROBABLY BE DELETED/COMMENTED OUT IN PALENTIR\n",
    "#get the rows that are known to have the dropped 0 problem by iFAM number\n",
    "rowsToChange=copy.deepcopy(brmData[brmData['iFAM Number'].isin(addZeroList)])\n",
    "#add the 0\n",
    "rowsToChange['VA BRM Number']=rowsToChange['VA BRM Number']+'0'\n",
    "#remove the originals\n",
    "brmData=brmData[~brmData['iFAM Number'].isin(addZeroList)]\n",
    "#append the fixed rows\n",
    "brmData=brmData.append(rowsToChange,ignore_index=True)\n"
   ]
  },
  {
   "cell_type": "code",
   "execution_count": 120,
   "id": "440431e8",
   "metadata": {},
   "outputs": [],
   "source": [
    "#filter to only get levels of interest\n",
    "levelValues=['Capability','Service']#parent, child\n",
    "brmData=brmData[brmData['Level'].isin(levelValues)]"
   ]
  },
  {
   "cell_type": "code",
   "execution_count": 121,
   "id": "79f52c57",
   "metadata": {},
   "outputs": [],
   "source": [
    "#declare dataset of parents\n",
    "capabilityData=brmData[brmData['Level']==levelValues[0]]"
   ]
  },
  {
   "cell_type": "code",
   "execution_count": 122,
   "id": "42bb38cf",
   "metadata": {},
   "outputs": [],
   "source": [
    "#declare dataset of children\n",
    "serviceData=brmData[brmData['Level']==levelValues[1]]"
   ]
  },
  {
   "cell_type": "code",
   "execution_count": 123,
   "id": "4c32ec01",
   "metadata": {},
   "outputs": [
    {
     "data": {
      "text/plain": [
       "[180, 183]"
      ]
     },
     "execution_count": 123,
     "metadata": {},
     "output_type": "execute_result"
    }
   ],
   "source": [
    "#find the index of the repeated values\n",
    "repeatIndexList=list(serviceData.index[serviceData['VA BRM Short Name']==duplicatedName])"
   ]
  },
  {
   "cell_type": "code",
   "execution_count": 124,
   "id": "7ca934f4",
   "metadata": {},
   "outputs": [],
   "source": [
    "#fix the duplicated name by appending the full name to it\n",
    "serviceData.at[repeatIndexList[0],'VA BRM Short Name']=duplicatedConcatValues[0]+duplicatedName\n",
    "serviceData.at[repeatIndexList[1],'VA BRM Short Name']=duplicatedConcatValues[1]+duplicatedName"
   ]
  },
  {
   "cell_type": "code",
   "execution_count": null,
   "id": "53050b55",
   "metadata": {},
   "outputs": [],
   "source": []
  },
  {
   "cell_type": "code",
   "execution_count": 150,
   "id": "47581855",
   "metadata": {},
   "outputs": [],
   "source": [
    "#this chunk maps the parents to the children\n",
    "\n",
    "data=[]#this is used to hold values and convert into the final dataframe of mapped values\n",
    "#for each capability, get all of the children and put into the relationshipDf\n",
    "fullParentList=[]\n",
    "for i,row in capabilityData.iterrows():#for each capability\n",
    "    tempBrm=row[0]\n",
    "    tempParentName=row[1]#get the brm and name\n",
    "    #now use the BRM # to get the rows in \n",
    "    tempKids=serviceData[serviceData['VA BRM Number'].str.startswith(tempBrm+'.')]#add the . to finalize the parent\n",
    "    #for example, search 1.1.etc will not find 1.10.etc\n",
    "    #data.append([tempParentName,'']) # if this line gets uncommented it will add in a row for each parent\n",
    "    #for each row of the kids get generate a list that maps parent to child text\n",
    "    fullParentList.append(tempParentName)\n",
    "    for i2,row2 in tempKids.iterrows():#add a row for each child\n",
    "        tempShort=row2[1]\n",
    "        tempList=[tempShort,tempParentName]\n",
    "        data.append(tempList)\n",
    "    \n",
    "#combine all of the rows into a dataframe\n",
    "relationshipDf=pd.DataFrame(data, columns=['Name','Parent'])"
   ]
  },
  {
   "cell_type": "code",
   "execution_count": 151,
   "id": "97cb1934",
   "metadata": {},
   "outputs": [],
   "source": [
    "#add in a value column to make each square the same size\n",
    "\n",
    "parentList=list(relationshipDf['Parent'].unique())\n",
    "valueList=[1]*len(relationshipDf)\n",
    "\n",
    "#the loop below converts the parent rows (if applicable) to no value \n",
    "#for i in range(0,len(parentList)):\n",
    "#    if(parentList[i]==''):\n",
    "#        valueList[i]=''\n",
    "relationshipDf['value']=valueList\n"
   ]
  },
  {
   "cell_type": "code",
   "execution_count": 155,
   "id": "1ee84393",
   "metadata": {},
   "outputs": [],
   "source": [
    "#for each parent check to see if extra boxes are necessary\n",
    "for currentParent in fullParentList:\n",
    "    tempData=relationshipDf[relationshipDf['Parent']==currentParent]\n",
    "    tempNKids=len(tempData)\n",
    "    if(tempNKids==0 or tempNKids%2==1):\n",
    "        tempData={'Name':\"\",'Parent':currentParent,'value':1}\n",
    "        relationshipDf=relationshipDf.append(tempData,ignore_index=True)"
   ]
  },
  {
   "cell_type": "code",
   "execution_count": 156,
   "id": "8392bce8",
   "metadata": {},
   "outputs": [],
   "source": [
    "#try to fix the text wrap by adding in new lines\n",
    "relationshipDf['Name']=relationshipDf['Name'].str.replace(' ','<br>')#replace spaces with html breakline\n",
    "#add color column\n",
    "relationshipDf['Color']='blue'"
   ]
  },
  {
   "cell_type": "code",
   "execution_count": 164,
   "id": "f0c66096",
   "metadata": {},
   "outputs": [],
   "source": [
    "#make a dictionary with a color for each parent that is static\n",
    "#color_discrete_map={'(?)':'lightgrey', 'Lunch':'gold', 'Dinner':'darkblue'}\n",
    "colorDict={key: \"lightgrey\" for key in fullParentList}\n",
    "colorDict['(?)']='lightgrey'\n",
    "##c8dbd9"
   ]
  },
  {
   "cell_type": "code",
   "execution_count": 182,
   "id": "3e7033a7",
   "metadata": {},
   "outputs": [
    {
     "data": {
      "application/vnd.plotly.v1+json": {
       "config": {
        "plotlyServerURL": "https://plot.ly"
       },
       "data": [
        {
         "branchvalues": "total",
         "customdata": [
          [
           "blue"
          ],
          [
           "blue"
          ],
          [
           "blue"
          ],
          [
           "blue"
          ],
          [
           "blue"
          ],
          [
           "blue"
          ],
          [
           "blue"
          ],
          [
           "blue"
          ],
          [
           "blue"
          ],
          [
           "blue"
          ],
          [
           "blue"
          ],
          [
           "blue"
          ],
          [
           "blue"
          ],
          [
           "blue"
          ],
          [
           "blue"
          ],
          [
           "blue"
          ],
          [
           "blue"
          ],
          [
           "blue"
          ],
          [
           "blue"
          ],
          [
           "blue"
          ],
          [
           "blue"
          ],
          [
           "blue"
          ],
          [
           "blue"
          ],
          [
           "blue"
          ],
          [
           "blue"
          ],
          [
           "blue"
          ],
          [
           "blue"
          ],
          [
           "blue"
          ],
          [
           "blue"
          ],
          [
           "blue"
          ],
          [
           "blue"
          ],
          [
           "blue"
          ],
          [
           "blue"
          ],
          [
           "blue"
          ],
          [
           "blue"
          ],
          [
           "blue"
          ],
          [
           "blue"
          ],
          [
           "blue"
          ],
          [
           "blue"
          ],
          [
           "blue"
          ],
          [
           "blue"
          ],
          [
           "blue"
          ],
          [
           "blue"
          ],
          [
           "blue"
          ],
          [
           "blue"
          ],
          [
           "blue"
          ],
          [
           "blue"
          ],
          [
           "blue"
          ],
          [
           "blue"
          ],
          [
           "blue"
          ],
          [
           "blue"
          ],
          [
           "blue"
          ],
          [
           "blue"
          ],
          [
           "blue"
          ],
          [
           "blue"
          ],
          [
           "blue"
          ],
          [
           "blue"
          ],
          [
           "blue"
          ],
          [
           "blue"
          ],
          [
           "blue"
          ],
          [
           "blue"
          ],
          [
           "blue"
          ],
          [
           "blue"
          ],
          [
           "blue"
          ],
          [
           "blue"
          ],
          [
           "blue"
          ],
          [
           "blue"
          ],
          [
           "blue"
          ],
          [
           "blue"
          ],
          [
           "blue"
          ],
          [
           "blue"
          ],
          [
           "blue"
          ],
          [
           "blue"
          ],
          [
           "blue"
          ],
          [
           "blue"
          ],
          [
           "blue"
          ],
          [
           "blue"
          ],
          [
           "blue"
          ],
          [
           "blue"
          ],
          [
           "blue"
          ],
          [
           "blue"
          ],
          [
           "blue"
          ],
          [
           "blue"
          ],
          [
           "blue"
          ],
          [
           "blue"
          ],
          [
           "blue"
          ],
          [
           "blue"
          ],
          [
           "blue"
          ],
          [
           "blue"
          ],
          [
           "blue"
          ],
          [
           "blue"
          ],
          [
           "blue"
          ],
          [
           "blue"
          ],
          [
           "blue"
          ],
          [
           "blue"
          ],
          [
           "blue"
          ],
          [
           "blue"
          ],
          [
           "blue"
          ],
          [
           "blue"
          ],
          [
           "blue"
          ],
          [
           "blue"
          ],
          [
           "blue"
          ],
          [
           "blue"
          ],
          [
           "blue"
          ],
          [
           "blue"
          ],
          [
           "blue"
          ],
          [
           "blue"
          ],
          [
           "blue"
          ],
          [
           "blue"
          ],
          [
           "blue"
          ],
          [
           "blue"
          ],
          [
           "blue"
          ],
          [
           "blue"
          ],
          [
           "blue"
          ],
          [
           "blue"
          ],
          [
           "blue"
          ],
          [
           "blue"
          ],
          [
           "blue"
          ],
          [
           "blue"
          ],
          [
           "blue"
          ],
          [
           "blue"
          ],
          [
           "blue"
          ],
          [
           "blue"
          ],
          [
           "blue"
          ],
          [
           "blue"
          ],
          [
           "blue"
          ],
          [
           "blue"
          ],
          [
           "blue"
          ],
          [
           "blue"
          ],
          [
           "blue"
          ],
          [
           "blue"
          ],
          [
           "blue"
          ],
          [
           "blue"
          ],
          [
           "blue"
          ],
          [
           "blue"
          ],
          [
           "blue"
          ],
          [
           "blue"
          ],
          [
           "blue"
          ],
          [
           "blue"
          ],
          [
           "blue"
          ],
          [
           "blue"
          ],
          [
           "blue"
          ],
          [
           "blue"
          ],
          [
           "blue"
          ],
          [
           "blue"
          ],
          [
           "blue"
          ],
          [
           "blue"
          ],
          [
           "blue"
          ],
          [
           "blue"
          ],
          [
           "blue"
          ],
          [
           "blue"
          ],
          [
           "blue"
          ],
          [
           "blue"
          ],
          [
           "blue"
          ],
          [
           "blue"
          ],
          [
           "blue"
          ],
          [
           "blue"
          ],
          [
           "blue"
          ],
          [
           "blue"
          ],
          [
           "blue"
          ],
          [
           "blue"
          ],
          [
           "blue"
          ],
          [
           "blue"
          ],
          [
           "blue"
          ],
          [
           "blue"
          ],
          [
           "blue"
          ],
          [
           "blue"
          ],
          [
           "blue"
          ],
          [
           "blue"
          ],
          [
           "blue"
          ],
          [
           "blue"
          ],
          [
           "blue"
          ],
          [
           "blue"
          ],
          [
           "blue"
          ],
          [
           "blue"
          ],
          [
           "blue"
          ]
         ],
         "domain": {
          "x": [
           0,
           1
          ],
          "y": [
           0,
           1
          ]
         },
         "hovertemplate": "labels=%{label}<br>value=%{value}<br>parent=%{parent}<br>id=%{id}<br>Color=%{customdata[0]}<extra></extra>",
         "ids": [
          "Administer Benefits/",
          "Legislative, & Regulatory Affairs/Legislative<br>Proposals",
          "Administer Benefits/Life<br>Insurance<br>Benefits",
          "Administer Benefits/Loan<br>Guaranty",
          "Property Mgmt/Long-Range<br>&<br>Annual<br>Capital<br>Investments",
          "Enterprise Governance/Manage<br>Advisory<br>Committees<br>",
          "Process Benefit/Manage<br>Benefit<br>Award",
          "Physical & Personnel Security/Law<br>Enforcement",
          "External Veterans Affairs Relationships/Manage<br>Partnerships",
          "Public Health/Medical<br>Registry<br>Svc",
          "Org Leadership & Admin Support/Office<br>Admin<br>Support<br>Functions",
          "Org Leadership & Admin Support/Org<br>Leadership<br>&<br>Oversight",
          "Financial Mgmt/Payable<br>Mgmt",
          "Administer Benefits/Pension<br>&<br>Fiduciary<br>Benefits",
          "Enterprise Governance/Perf<br>&<br>Risk",
          "Human Capital Mgmt/Manage<br>Volunteers",
          "Human Capital Mgmt/Labor<br>Relations",
          "Manage Information/Knowledge<br>Capture<br>&<br>Sharing",
          "Property Mgmt/Inventory<br>&<br>Equipment",
          "Health Care Admin/Health<br>Care<br>Business",
          "Health Care Research/Health<br>Care<br>Research",
          "Deliver Health Care/Health<br>Related<br>Services",
          "Health Care Admin/Hospital<br>Admin",
          "Human Capital Mgmt/Human<br>Capital<br>Strat,<br>Policy,<br>&<br>Ops<br>Plan",
          "IT Services/IT<br>Infrastructure",
          "IT Services/IT<br>Operations",
          "IT Services/IT<br>Portfolio<br>Mgmt",
          "IT Services/IT<br>Security",
          "IT Services/IT<br>Systems<br>Lifecycle",
          "Physical & Personnel Security/Identification,<br>Authentication<br>&<br>Access",
          "Manage Information/Information<br>Security",
          "Security Operations/Integrated<br>Operations<br>Center",
          "Memorial Benefits & Services/Interment<br>Services",
          "Mail Operations Mgmt/Interoffice<br>&<br>Interagency<br>Mail",
          "Enterprise Governance/Perf<br>Improvement",
          "Property Mgmt/Property<br>Acq<br>&<br>Control",
          "Property Mgmt/Property<br>Design<br>&<br>Dev",
          "Property Mgmt/Property<br>Operations<br>Mgmt",
          "Travel, Relocation & Fleet Mgmt/Subsidy<br>Program<br>Mgmt",
          "Human Capital Mgmt/Talent<br>Acq",
          "Human Capital Mgmt/Talent<br>Dev",
          "Travel, Relocation & Fleet Mgmt/Temporary<br>&<br>Permanent<br>Change<br>of<br>Station",
          "Travel, Relocation & Fleet Mgmt/Temporary<br>Duty<br>&<br>Local<br>Travel<br>Processing",
          "Administer Benefits/Transition<br>Assistance<br>Benefits",
          "Travel, Relocation & Fleet Mgmt/Travel<br>&<br>Fleet<br>Card<br>Mgmt",
          "Mail Operations Mgmt/USPS<br>&<br>Other<br>Carrier<br>Mail",
          "Legislative, & Regulatory Affairs/VA's<br>Legislative<br>Strategy<br>&<br>Priorities",
          "Health Care Education/VHA<br>Clinical<br>Health<br>Trainees<br>Oversight",
          "Memorial Benefits & Services/Veteran<br>Interments<br>Memorial<br>Services",
          "Memorial Benefits & Services/Veteran<br>Memorialization",
          "Human Capital Mgmt/Workforce<br>Analytics<br>&<br>Employee<br>Records",
          "Health Care Research/Write<br>Research<br>Proposals",
          "Acq Mgmt",
          "Mail Operations Mgmt/Special<br>Handling<br>&<br>Delivery<br>Mail",
          "Public Health/Health<br>Agencies",
          "Health Care Research/Share<br>Research<br>Results",
          "Sales Order & Fulfillment Mgmt/Sales<br>Ordering<br>Mgmt",
          "Public Health/Public<br>Health<br>Alerts",
          "Public Health/Public<br>Health<br>Assessment",
          "External Veterans Affairs Relationships/Public<br>Relations",
          "Acq Mgmt/Purchase<br>Card<br>Mgmt",
          "Acq Mgmt/Purchase<br>Catalog<br>Mgmt",
          "Financial Mgmt/Receivable<br>&<br>Collection<br>Mgmt",
          "Legislative, & Regulatory Affairs/Regulatory<br>Development",
          "Financial Mgmt/Reimbursable<br>Mgmt",
          "Health Care Education/Relationships<br>with<br>External<br>Institutions",
          "Health Care Research/Research<br>Environment",
          "Health Care Research/Research<br>Strategic<br>Direction",
          "Security Operations/Respond<br>to<br>Disasters",
          "Financial Mgmt/Revenue<br>Mgmt",
          "Sales Order & Fulfillment Mgmt/Sales<br>Customer<br>Relationship<br>Mgmt",
          "Sales Order & Fulfillment Mgmt/Sales<br>Inventory/Fulfillment<br>Mgmt",
          "Human Capital Mgmt/Separation<br>&<br>Retirement",
          "Memorial Benefits & Services/Guest<br>&<br>Family<br>Visitation",
          "Grants Mgmt/Grant<br>Recipient<br>Oversight",
          "Grants Mgmt/Grant<br>Program<br>Oversight",
          "Manage Appeals/Adjudicate<br>Appeal<br>to<br>Board",
          "Administer Benefits/Admin<br>Vet<br>Readiness<br>and<br>Employ<br>Benefits",
          "Human Capital Mgmt/Agency<br>Human<br>Capital<br>Eval",
          "Financial Mgmt/Agent<br>Cashier",
          "Deliver Health Care/Ancillary<br>Services",
          "Health Care Research/Apply<br>Research<br>Results",
          "External Veterans Affairs Relationships/Benefits<br>&<br>Services<br>Outreach",
          "Financial Mgmt/Budget<br>Execution",
          "Budget Formulation/Budget<br>Preparation<br>Analysis",
          "Budget Formulation/Budget<br>Request<br>Planning<br>&<br>Submission",
          "Budget Formulation/Budget<br>Spend<br>Planning<br>&<br>Monitoring",
          "Manage Information/Business<br>Intelligence<br>Services",
          "Memorial Benefits & Services/Cemetery<br>Grounds<br>and<br>Gravesites",
          "Memorial Benefits & Services/Ceremonial<br>Services<br>Holidays<br>&<br>Events",
          "Deliver Health Care/Clinical<br>Care<br>Services",
          "Acq Mgmt/Acq<br>Source<br>Selection",
          "Public Health/Clinical<br>Public<br>Health",
          "Acq Mgmt/Acq<br>Planning",
          "Enterprise Governance/Accountability<br>&<br>Compliance",
          "Budget Formulation/",
          "Coordinate Homeless Program/",
          "Enterprise Governance/",
          "Health Care Research/",
          "Human Capital Mgmt/",
          "IT Services/",
          "Legal Guidance & Representation/",
          "Mail Operations Mgmt/",
          "Manage Information/",
          "Memorial Benefits & Services/",
          "Physical & Personnel Security/",
          "Property Mgmt/",
          "Sales Order & Fulfillment Mgmt/",
          "Travel, Relocation & Fleet Mgmt/",
          "Veterans Employment & Retention/",
          "Acq Mgmt/Acq<br>Package<br>Preparation",
          "Administer Benefits",
          "Deliver Health Care/Common<br>Clinical<br>Support",
          "Administer Benefits/Compensation<br>Services",
          "Public Health/Environmental<br>Health",
          "Process Benefit/Establish<br>Claim",
          "Health Care Research/Evaluate<br>Research<br>Proposals",
          "Physical & Personnel Security/Executive<br>Protection",
          "Physical & Personnel Security/Facility<br>Security",
          "Financial Mgmt/Financial<br>/<br>Perf<br>Rptg",
          "Financial Mgmt/Financial<br>Asset<br>Info<br>Mgmt",
          "Financial Mgmt/Financial<br>Reconciliation",
          "Travel, Relocation & Fleet Mgmt/Fleet<br>Mgmt",
          "Financial Mgmt/General<br>Ledger<br>Mgmt",
          "Manage Information/Government<br>Records",
          "Grants Mgmt/Grant<br>Award<br>Mgmt",
          "Grants Mgmt/Grant<br>Post-Award<br>Mgmt<br>&<br>Closeout",
          "Grants Mgmt/Grant<br>Pre-Award<br>Mgmt",
          "Grants Mgmt/Grant<br>Program<br>Admin",
          "Enterprise Governance/Enterprise<br>Requirements<br>Mgmt",
          "Human Capital Mgmt/Compensation<br>&<br>Benefits",
          "Manage Information/Enterprise<br>Data<br>Mgmt",
          "Physical & Personnel Security/Enforcement<br>Oversight",
          "Legislative, & Regulatory Affairs/Congressional<br>Liaison<br>Operations",
          "Acq Mgmt/Contracts<br>Admin",
          "Security Operations/Coordinate<br>Continuity<br>Ops",
          "Financial Mgmt/Cost<br>Mgmt",
          "External Veterans Affairs Relationships/Customer<br>Services",
          "Manage Information/Data<br>Governance<br>",
          "Manage Appeals/Decision<br>Reviews",
          "Financial Mgmt/Delinquent<br>Debt<br>Mgmt",
          "Process Benefit/Determine<br>Entitlement",
          "Process Benefit/Develop<br>Claim",
          "Security Operations/Disasters<br>and<br>Emergencies",
          "Memorial Benefits & Services/Disinterments<br>Services",
          "Administer Benefits/Education<br>Services",
          "Human Capital Mgmt/Employee<br>Perf<br>Mgmt",
          "Human Capital Mgmt/Employee<br>Relation<br>&<br>Continuous<br>Vetting",
          "Manage Information/Enterprise<br>Architecture",
          "Budget Formulation",
          "Coordinate Homeless Program",
          "Deliver Health Care",
          "Enterprise Governance",
          "External Veterans Affairs Relationships",
          "Financial Mgmt",
          "Grants Mgmt",
          "Health Care Admin",
          "Health Care Education",
          "Health Care Research",
          "Human Capital Mgmt",
          "IT Services",
          "Legal Guidance & Representation",
          "Legislative, & Regulatory Affairs",
          "Mail Operations Mgmt",
          "Manage Appeals",
          "Manage Information",
          "Memorial Benefits & Services",
          "Org Leadership & Admin Support",
          "Physical & Personnel Security",
          "Process Benefit",
          "Property Mgmt",
          "Public Health",
          "Sales Order & Fulfillment Mgmt",
          "Security Operations",
          "Travel, Relocation & Fleet Mgmt",
          "Veterans Employment & Retention"
         ],
         "labels": [
          "",
          "Legislative<br>Proposals",
          "Life<br>Insurance<br>Benefits",
          "Loan<br>Guaranty",
          "Long-Range<br>&<br>Annual<br>Capital<br>Investments",
          "Manage<br>Advisory<br>Committees<br>",
          "Manage<br>Benefit<br>Award",
          "Law<br>Enforcement",
          "Manage<br>Partnerships",
          "Medical<br>Registry<br>Svc",
          "Office<br>Admin<br>Support<br>Functions",
          "Org<br>Leadership<br>&<br>Oversight",
          "Payable<br>Mgmt",
          "Pension<br>&<br>Fiduciary<br>Benefits",
          "Perf<br>&<br>Risk",
          "Manage<br>Volunteers",
          "Labor<br>Relations",
          "Knowledge<br>Capture<br>&<br>Sharing",
          "Inventory<br>&<br>Equipment",
          "Health<br>Care<br>Business",
          "Health<br>Care<br>Research",
          "Health<br>Related<br>Services",
          "Hospital<br>Admin",
          "Human<br>Capital<br>Strat,<br>Policy,<br>&<br>Ops<br>Plan",
          "IT<br>Infrastructure",
          "IT<br>Operations",
          "IT<br>Portfolio<br>Mgmt",
          "IT<br>Security",
          "IT<br>Systems<br>Lifecycle",
          "Identification,<br>Authentication<br>&<br>Access",
          "Information<br>Security",
          "Integrated<br>Operations<br>Center",
          "Interment<br>Services",
          "Interoffice<br>&<br>Interagency<br>Mail",
          "Perf<br>Improvement",
          "Property<br>Acq<br>&<br>Control",
          "Property<br>Design<br>&<br>Dev",
          "Property<br>Operations<br>Mgmt",
          "Subsidy<br>Program<br>Mgmt",
          "Talent<br>Acq",
          "Talent<br>Dev",
          "Temporary<br>&<br>Permanent<br>Change<br>of<br>Station",
          "Temporary<br>Duty<br>&<br>Local<br>Travel<br>Processing",
          "Transition<br>Assistance<br>Benefits",
          "Travel<br>&<br>Fleet<br>Card<br>Mgmt",
          "USPS<br>&<br>Other<br>Carrier<br>Mail",
          "VA's<br>Legislative<br>Strategy<br>&<br>Priorities",
          "VHA<br>Clinical<br>Health<br>Trainees<br>Oversight",
          "Veteran<br>Interments<br>Memorial<br>Services",
          "Veteran<br>Memorialization",
          "Workforce<br>Analytics<br>&<br>Employee<br>Records",
          "Write<br>Research<br>Proposals",
          "Acq Mgmt",
          "Special<br>Handling<br>&<br>Delivery<br>Mail",
          "Health<br>Agencies",
          "Share<br>Research<br>Results",
          "Sales<br>Ordering<br>Mgmt",
          "Public<br>Health<br>Alerts",
          "Public<br>Health<br>Assessment",
          "Public<br>Relations",
          "Purchase<br>Card<br>Mgmt",
          "Purchase<br>Catalog<br>Mgmt",
          "Receivable<br>&<br>Collection<br>Mgmt",
          "Regulatory<br>Development",
          "Reimbursable<br>Mgmt",
          "Relationships<br>with<br>External<br>Institutions",
          "Research<br>Environment",
          "Research<br>Strategic<br>Direction",
          "Respond<br>to<br>Disasters",
          "Revenue<br>Mgmt",
          "Sales<br>Customer<br>Relationship<br>Mgmt",
          "Sales<br>Inventory/Fulfillment<br>Mgmt",
          "Separation<br>&<br>Retirement",
          "Guest<br>&<br>Family<br>Visitation",
          "Grant<br>Recipient<br>Oversight",
          "Grant<br>Program<br>Oversight",
          "Adjudicate<br>Appeal<br>to<br>Board",
          "Admin<br>Vet<br>Readiness<br>and<br>Employ<br>Benefits",
          "Agency<br>Human<br>Capital<br>Eval",
          "Agent<br>Cashier",
          "Ancillary<br>Services",
          "Apply<br>Research<br>Results",
          "Benefits<br>&<br>Services<br>Outreach",
          "Budget<br>Execution",
          "Budget<br>Preparation<br>Analysis",
          "Budget<br>Request<br>Planning<br>&<br>Submission",
          "Budget<br>Spend<br>Planning<br>&<br>Monitoring",
          "Business<br>Intelligence<br>Services",
          "Cemetery<br>Grounds<br>and<br>Gravesites",
          "Ceremonial<br>Services<br>Holidays<br>&<br>Events",
          "Clinical<br>Care<br>Services",
          "Acq<br>Source<br>Selection",
          "Clinical<br>Public<br>Health",
          "Acq<br>Planning",
          "Accountability<br>&<br>Compliance",
          "",
          "",
          "",
          "",
          "",
          "",
          "",
          "",
          "",
          "",
          "",
          "",
          "",
          "",
          "",
          "Acq<br>Package<br>Preparation",
          "Administer Benefits",
          "Common<br>Clinical<br>Support",
          "Compensation<br>Services",
          "Environmental<br>Health",
          "Establish<br>Claim",
          "Evaluate<br>Research<br>Proposals",
          "Executive<br>Protection",
          "Facility<br>Security",
          "Financial<br>/<br>Perf<br>Rptg",
          "Financial<br>Asset<br>Info<br>Mgmt",
          "Financial<br>Reconciliation",
          "Fleet<br>Mgmt",
          "General<br>Ledger<br>Mgmt",
          "Government<br>Records",
          "Grant<br>Award<br>Mgmt",
          "Grant<br>Post-Award<br>Mgmt<br>&<br>Closeout",
          "Grant<br>Pre-Award<br>Mgmt",
          "Grant<br>Program<br>Admin",
          "Enterprise<br>Requirements<br>Mgmt",
          "Compensation<br>&<br>Benefits",
          "Enterprise<br>Data<br>Mgmt",
          "Enforcement<br>Oversight",
          "Congressional<br>Liaison<br>Operations",
          "Contracts<br>Admin",
          "Coordinate<br>Continuity<br>Ops",
          "Cost<br>Mgmt",
          "Customer<br>Services",
          "Data<br>Governance<br>",
          "Decision<br>Reviews",
          "Delinquent<br>Debt<br>Mgmt",
          "Determine<br>Entitlement",
          "Develop<br>Claim",
          "Disasters<br>and<br>Emergencies",
          "Disinterments<br>Services",
          "Education<br>Services",
          "Employee<br>Perf<br>Mgmt",
          "Employee<br>Relation<br>&<br>Continuous<br>Vetting",
          "Enterprise<br>Architecture",
          "Budget Formulation",
          "Coordinate Homeless Program",
          "Deliver Health Care",
          "Enterprise Governance",
          "External Veterans Affairs Relationships",
          "Financial Mgmt",
          "Grants Mgmt",
          "Health Care Admin",
          "Health Care Education",
          "Health Care Research",
          "Human Capital Mgmt",
          "IT Services",
          "Legal Guidance & Representation",
          "Legislative, & Regulatory Affairs",
          "Mail Operations Mgmt",
          "Manage Appeals",
          "Manage Information",
          "Memorial Benefits & Services",
          "Org Leadership & Admin Support",
          "Physical & Personnel Security",
          "Process Benefit",
          "Property Mgmt",
          "Public Health",
          "Sales Order & Fulfillment Mgmt",
          "Security Operations",
          "Travel, Relocation & Fleet Mgmt",
          "Veterans Employment & Retention"
         ],
         "marker": {
          "colors": [
           "#636efa",
           "#636efa",
           "#636efa",
           "#636efa",
           "#636efa",
           "#636efa",
           "#636efa",
           "#636efa",
           "#636efa",
           "#636efa",
           "#636efa",
           "#636efa",
           "#636efa",
           "#636efa",
           "#636efa",
           "#636efa",
           "#636efa",
           "#636efa",
           "#636efa",
           "#636efa",
           "#636efa",
           "#636efa",
           "#636efa",
           "#636efa",
           "#636efa",
           "#636efa",
           "#636efa",
           "#636efa",
           "#636efa",
           "#636efa",
           "#636efa",
           "#636efa",
           "#636efa",
           "#636efa",
           "#636efa",
           "#636efa",
           "#636efa",
           "#636efa",
           "#636efa",
           "#636efa",
           "#636efa",
           "#636efa",
           "#636efa",
           "#636efa",
           "#636efa",
           "#636efa",
           "#636efa",
           "#636efa",
           "#636efa",
           "#636efa",
           "#636efa",
           "#636efa",
           "#636efa",
           "#636efa",
           "#636efa",
           "#636efa",
           "#636efa",
           "#636efa",
           "#636efa",
           "#636efa",
           "#636efa",
           "#636efa",
           "#636efa",
           "#636efa",
           "#636efa",
           "#636efa",
           "#636efa",
           "#636efa",
           "#636efa",
           "#636efa",
           "#636efa",
           "#636efa",
           "#636efa",
           "#636efa",
           "#636efa",
           "#636efa",
           "#636efa",
           "#636efa",
           "#636efa",
           "#636efa",
           "#636efa",
           "#636efa",
           "#636efa",
           "#636efa",
           "#636efa",
           "#636efa",
           "#636efa",
           "#636efa",
           "#636efa",
           "#636efa",
           "#636efa",
           "#636efa",
           "#636efa",
           "#636efa",
           "#636efa",
           "#636efa",
           "#636efa",
           "#636efa",
           "#636efa",
           "#636efa",
           "#636efa",
           "#636efa",
           "#636efa",
           "#636efa",
           "#636efa",
           "#636efa",
           "#636efa",
           "#636efa",
           "#636efa",
           "#636efa",
           "#636efa",
           "#636efa",
           "#636efa",
           "#636efa",
           "#636efa",
           "#636efa",
           "#636efa",
           "#636efa",
           "#636efa",
           "#636efa",
           "#636efa",
           "#636efa",
           "#636efa",
           "#636efa",
           "#636efa",
           "#636efa",
           "#636efa",
           "#636efa",
           "#636efa",
           "#636efa",
           "#636efa",
           "#636efa",
           "#636efa",
           "#636efa",
           "#636efa",
           "#636efa",
           "#636efa",
           "#636efa",
           "#636efa",
           "#636efa",
           "#636efa",
           "#636efa",
           "#636efa",
           "#636efa",
           "#636efa",
           "#636efa",
           "#636efa",
           "#636efa",
           "#636efa",
           "#636efa",
           "#636efa",
           "#636efa",
           "#636efa",
           "#636efa",
           "#636efa",
           "#636efa",
           "#636efa",
           "#636efa",
           "#636efa",
           "#636efa",
           "#636efa",
           "#636efa",
           "#636efa",
           "#636efa",
           "#636efa",
           "#636efa",
           "#636efa",
           "#636efa",
           "#636efa",
           "#636efa",
           "#636efa",
           "#636efa",
           "#636efa",
           "#636efa",
           "#636efa",
           "#636efa"
          ]
         },
         "name": "",
         "parents": [
          "Administer Benefits",
          "Legislative, & Regulatory Affairs",
          "Administer Benefits",
          "Administer Benefits",
          "Property Mgmt",
          "Enterprise Governance",
          "Process Benefit",
          "Physical & Personnel Security",
          "External Veterans Affairs Relationships",
          "Public Health",
          "Org Leadership & Admin Support",
          "Org Leadership & Admin Support",
          "Financial Mgmt",
          "Administer Benefits",
          "Enterprise Governance",
          "Human Capital Mgmt",
          "Human Capital Mgmt",
          "Manage Information",
          "Property Mgmt",
          "Health Care Admin",
          "Health Care Research",
          "Deliver Health Care",
          "Health Care Admin",
          "Human Capital Mgmt",
          "IT Services",
          "IT Services",
          "IT Services",
          "IT Services",
          "IT Services",
          "Physical & Personnel Security",
          "Manage Information",
          "Security Operations",
          "Memorial Benefits & Services",
          "Mail Operations Mgmt",
          "Enterprise Governance",
          "Property Mgmt",
          "Property Mgmt",
          "Property Mgmt",
          "Travel, Relocation & Fleet Mgmt",
          "Human Capital Mgmt",
          "Human Capital Mgmt",
          "Travel, Relocation & Fleet Mgmt",
          "Travel, Relocation & Fleet Mgmt",
          "Administer Benefits",
          "Travel, Relocation & Fleet Mgmt",
          "Mail Operations Mgmt",
          "Legislative, & Regulatory Affairs",
          "Health Care Education",
          "Memorial Benefits & Services",
          "Memorial Benefits & Services",
          "Human Capital Mgmt",
          "Health Care Research",
          "",
          "Mail Operations Mgmt",
          "Public Health",
          "Health Care Research",
          "Sales Order & Fulfillment Mgmt",
          "Public Health",
          "Public Health",
          "External Veterans Affairs Relationships",
          "Acq Mgmt",
          "Acq Mgmt",
          "Financial Mgmt",
          "Legislative, & Regulatory Affairs",
          "Financial Mgmt",
          "Health Care Education",
          "Health Care Research",
          "Health Care Research",
          "Security Operations",
          "Financial Mgmt",
          "Sales Order & Fulfillment Mgmt",
          "Sales Order & Fulfillment Mgmt",
          "Human Capital Mgmt",
          "Memorial Benefits & Services",
          "Grants Mgmt",
          "Grants Mgmt",
          "Manage Appeals",
          "Administer Benefits",
          "Human Capital Mgmt",
          "Financial Mgmt",
          "Deliver Health Care",
          "Health Care Research",
          "External Veterans Affairs Relationships",
          "Financial Mgmt",
          "Budget Formulation",
          "Budget Formulation",
          "Budget Formulation",
          "Manage Information",
          "Memorial Benefits & Services",
          "Memorial Benefits & Services",
          "Deliver Health Care",
          "Acq Mgmt",
          "Public Health",
          "Acq Mgmt",
          "Enterprise Governance",
          "Budget Formulation",
          "Coordinate Homeless Program",
          "Enterprise Governance",
          "Health Care Research",
          "Human Capital Mgmt",
          "IT Services",
          "Legal Guidance & Representation",
          "Mail Operations Mgmt",
          "Manage Information",
          "Memorial Benefits & Services",
          "Physical & Personnel Security",
          "Property Mgmt",
          "Sales Order & Fulfillment Mgmt",
          "Travel, Relocation & Fleet Mgmt",
          "Veterans Employment & Retention",
          "Acq Mgmt",
          "",
          "Deliver Health Care",
          "Administer Benefits",
          "Public Health",
          "Process Benefit",
          "Health Care Research",
          "Physical & Personnel Security",
          "Physical & Personnel Security",
          "Financial Mgmt",
          "Financial Mgmt",
          "Financial Mgmt",
          "Travel, Relocation & Fleet Mgmt",
          "Financial Mgmt",
          "Manage Information",
          "Grants Mgmt",
          "Grants Mgmt",
          "Grants Mgmt",
          "Grants Mgmt",
          "Enterprise Governance",
          "Human Capital Mgmt",
          "Manage Information",
          "Physical & Personnel Security",
          "Legislative, & Regulatory Affairs",
          "Acq Mgmt",
          "Security Operations",
          "Financial Mgmt",
          "External Veterans Affairs Relationships",
          "Manage Information",
          "Manage Appeals",
          "Financial Mgmt",
          "Process Benefit",
          "Process Benefit",
          "Security Operations",
          "Memorial Benefits & Services",
          "Administer Benefits",
          "Human Capital Mgmt",
          "Human Capital Mgmt",
          "Manage Information",
          "",
          "",
          "",
          "",
          "",
          "",
          "",
          "",
          "",
          "",
          "",
          "",
          "",
          "",
          "",
          "",
          "",
          "",
          "",
          "",
          "",
          "",
          "",
          "",
          "",
          "",
          ""
         ],
         "root": {
          "color": "lightblue"
         },
         "type": "treemap",
         "values": [
          1,
          1,
          1,
          1,
          1,
          1,
          1,
          1,
          1,
          1,
          1,
          1,
          1,
          1,
          1,
          1,
          1,
          1,
          1,
          1,
          1,
          1,
          1,
          1,
          1,
          1,
          1,
          1,
          1,
          1,
          1,
          1,
          1,
          1,
          1,
          1,
          1,
          1,
          1,
          1,
          1,
          1,
          1,
          1,
          1,
          1,
          1,
          1,
          1,
          1,
          1,
          1,
          6,
          1,
          1,
          1,
          1,
          1,
          1,
          1,
          1,
          1,
          1,
          1,
          1,
          1,
          1,
          1,
          1,
          1,
          1,
          1,
          1,
          1,
          1,
          1,
          1,
          1,
          1,
          1,
          1,
          1,
          1,
          1,
          1,
          1,
          1,
          1,
          1,
          1,
          1,
          1,
          1,
          1,
          1,
          1,
          2,
          1,
          1,
          1,
          1,
          2,
          1,
          1,
          1,
          1,
          1,
          1,
          1,
          2,
          1,
          8,
          1,
          1,
          1,
          1,
          1,
          1,
          1,
          1,
          1,
          1,
          1,
          1,
          1,
          1,
          1,
          1,
          1,
          1,
          1,
          1,
          1,
          1,
          1,
          1,
          1,
          1,
          1,
          1,
          1,
          1,
          1,
          1,
          1,
          1,
          1,
          1,
          1,
          4,
          2,
          4,
          6,
          4,
          12,
          6,
          2,
          2,
          8,
          12,
          6,
          2,
          4,
          4,
          2,
          8,
          8,
          2,
          6,
          4,
          6,
          6,
          4,
          4,
          6,
          2
         ]
        }
       ],
       "layout": {
        "autosize": false,
        "height": 800,
        "legend": {
         "tracegroupgap": 0
        },
        "template": {
         "data": {
          "bar": [
           {
            "error_x": {
             "color": "#2a3f5f"
            },
            "error_y": {
             "color": "#2a3f5f"
            },
            "marker": {
             "line": {
              "color": "#E5ECF6",
              "width": 0.5
             },
             "pattern": {
              "fillmode": "overlay",
              "size": 10,
              "solidity": 0.2
             }
            },
            "type": "bar"
           }
          ],
          "barpolar": [
           {
            "marker": {
             "line": {
              "color": "#E5ECF6",
              "width": 0.5
             },
             "pattern": {
              "fillmode": "overlay",
              "size": 10,
              "solidity": 0.2
             }
            },
            "type": "barpolar"
           }
          ],
          "carpet": [
           {
            "aaxis": {
             "endlinecolor": "#2a3f5f",
             "gridcolor": "white",
             "linecolor": "white",
             "minorgridcolor": "white",
             "startlinecolor": "#2a3f5f"
            },
            "baxis": {
             "endlinecolor": "#2a3f5f",
             "gridcolor": "white",
             "linecolor": "white",
             "minorgridcolor": "white",
             "startlinecolor": "#2a3f5f"
            },
            "type": "carpet"
           }
          ],
          "choropleth": [
           {
            "colorbar": {
             "outlinewidth": 0,
             "ticks": ""
            },
            "type": "choropleth"
           }
          ],
          "contour": [
           {
            "colorbar": {
             "outlinewidth": 0,
             "ticks": ""
            },
            "colorscale": [
             [
              0,
              "#0d0887"
             ],
             [
              0.1111111111111111,
              "#46039f"
             ],
             [
              0.2222222222222222,
              "#7201a8"
             ],
             [
              0.3333333333333333,
              "#9c179e"
             ],
             [
              0.4444444444444444,
              "#bd3786"
             ],
             [
              0.5555555555555556,
              "#d8576b"
             ],
             [
              0.6666666666666666,
              "#ed7953"
             ],
             [
              0.7777777777777778,
              "#fb9f3a"
             ],
             [
              0.8888888888888888,
              "#fdca26"
             ],
             [
              1,
              "#f0f921"
             ]
            ],
            "type": "contour"
           }
          ],
          "contourcarpet": [
           {
            "colorbar": {
             "outlinewidth": 0,
             "ticks": ""
            },
            "type": "contourcarpet"
           }
          ],
          "heatmap": [
           {
            "colorbar": {
             "outlinewidth": 0,
             "ticks": ""
            },
            "colorscale": [
             [
              0,
              "#0d0887"
             ],
             [
              0.1111111111111111,
              "#46039f"
             ],
             [
              0.2222222222222222,
              "#7201a8"
             ],
             [
              0.3333333333333333,
              "#9c179e"
             ],
             [
              0.4444444444444444,
              "#bd3786"
             ],
             [
              0.5555555555555556,
              "#d8576b"
             ],
             [
              0.6666666666666666,
              "#ed7953"
             ],
             [
              0.7777777777777778,
              "#fb9f3a"
             ],
             [
              0.8888888888888888,
              "#fdca26"
             ],
             [
              1,
              "#f0f921"
             ]
            ],
            "type": "heatmap"
           }
          ],
          "heatmapgl": [
           {
            "colorbar": {
             "outlinewidth": 0,
             "ticks": ""
            },
            "colorscale": [
             [
              0,
              "#0d0887"
             ],
             [
              0.1111111111111111,
              "#46039f"
             ],
             [
              0.2222222222222222,
              "#7201a8"
             ],
             [
              0.3333333333333333,
              "#9c179e"
             ],
             [
              0.4444444444444444,
              "#bd3786"
             ],
             [
              0.5555555555555556,
              "#d8576b"
             ],
             [
              0.6666666666666666,
              "#ed7953"
             ],
             [
              0.7777777777777778,
              "#fb9f3a"
             ],
             [
              0.8888888888888888,
              "#fdca26"
             ],
             [
              1,
              "#f0f921"
             ]
            ],
            "type": "heatmapgl"
           }
          ],
          "histogram": [
           {
            "marker": {
             "pattern": {
              "fillmode": "overlay",
              "size": 10,
              "solidity": 0.2
             }
            },
            "type": "histogram"
           }
          ],
          "histogram2d": [
           {
            "colorbar": {
             "outlinewidth": 0,
             "ticks": ""
            },
            "colorscale": [
             [
              0,
              "#0d0887"
             ],
             [
              0.1111111111111111,
              "#46039f"
             ],
             [
              0.2222222222222222,
              "#7201a8"
             ],
             [
              0.3333333333333333,
              "#9c179e"
             ],
             [
              0.4444444444444444,
              "#bd3786"
             ],
             [
              0.5555555555555556,
              "#d8576b"
             ],
             [
              0.6666666666666666,
              "#ed7953"
             ],
             [
              0.7777777777777778,
              "#fb9f3a"
             ],
             [
              0.8888888888888888,
              "#fdca26"
             ],
             [
              1,
              "#f0f921"
             ]
            ],
            "type": "histogram2d"
           }
          ],
          "histogram2dcontour": [
           {
            "colorbar": {
             "outlinewidth": 0,
             "ticks": ""
            },
            "colorscale": [
             [
              0,
              "#0d0887"
             ],
             [
              0.1111111111111111,
              "#46039f"
             ],
             [
              0.2222222222222222,
              "#7201a8"
             ],
             [
              0.3333333333333333,
              "#9c179e"
             ],
             [
              0.4444444444444444,
              "#bd3786"
             ],
             [
              0.5555555555555556,
              "#d8576b"
             ],
             [
              0.6666666666666666,
              "#ed7953"
             ],
             [
              0.7777777777777778,
              "#fb9f3a"
             ],
             [
              0.8888888888888888,
              "#fdca26"
             ],
             [
              1,
              "#f0f921"
             ]
            ],
            "type": "histogram2dcontour"
           }
          ],
          "mesh3d": [
           {
            "colorbar": {
             "outlinewidth": 0,
             "ticks": ""
            },
            "type": "mesh3d"
           }
          ],
          "parcoords": [
           {
            "line": {
             "colorbar": {
              "outlinewidth": 0,
              "ticks": ""
             }
            },
            "type": "parcoords"
           }
          ],
          "pie": [
           {
            "automargin": true,
            "type": "pie"
           }
          ],
          "scatter": [
           {
            "marker": {
             "colorbar": {
              "outlinewidth": 0,
              "ticks": ""
             }
            },
            "type": "scatter"
           }
          ],
          "scatter3d": [
           {
            "line": {
             "colorbar": {
              "outlinewidth": 0,
              "ticks": ""
             }
            },
            "marker": {
             "colorbar": {
              "outlinewidth": 0,
              "ticks": ""
             }
            },
            "type": "scatter3d"
           }
          ],
          "scattercarpet": [
           {
            "marker": {
             "colorbar": {
              "outlinewidth": 0,
              "ticks": ""
             }
            },
            "type": "scattercarpet"
           }
          ],
          "scattergeo": [
           {
            "marker": {
             "colorbar": {
              "outlinewidth": 0,
              "ticks": ""
             }
            },
            "type": "scattergeo"
           }
          ],
          "scattergl": [
           {
            "marker": {
             "colorbar": {
              "outlinewidth": 0,
              "ticks": ""
             }
            },
            "type": "scattergl"
           }
          ],
          "scattermapbox": [
           {
            "marker": {
             "colorbar": {
              "outlinewidth": 0,
              "ticks": ""
             }
            },
            "type": "scattermapbox"
           }
          ],
          "scatterpolar": [
           {
            "marker": {
             "colorbar": {
              "outlinewidth": 0,
              "ticks": ""
             }
            },
            "type": "scatterpolar"
           }
          ],
          "scatterpolargl": [
           {
            "marker": {
             "colorbar": {
              "outlinewidth": 0,
              "ticks": ""
             }
            },
            "type": "scatterpolargl"
           }
          ],
          "scatterternary": [
           {
            "marker": {
             "colorbar": {
              "outlinewidth": 0,
              "ticks": ""
             }
            },
            "type": "scatterternary"
           }
          ],
          "surface": [
           {
            "colorbar": {
             "outlinewidth": 0,
             "ticks": ""
            },
            "colorscale": [
             [
              0,
              "#0d0887"
             ],
             [
              0.1111111111111111,
              "#46039f"
             ],
             [
              0.2222222222222222,
              "#7201a8"
             ],
             [
              0.3333333333333333,
              "#9c179e"
             ],
             [
              0.4444444444444444,
              "#bd3786"
             ],
             [
              0.5555555555555556,
              "#d8576b"
             ],
             [
              0.6666666666666666,
              "#ed7953"
             ],
             [
              0.7777777777777778,
              "#fb9f3a"
             ],
             [
              0.8888888888888888,
              "#fdca26"
             ],
             [
              1,
              "#f0f921"
             ]
            ],
            "type": "surface"
           }
          ],
          "table": [
           {
            "cells": {
             "fill": {
              "color": "#EBF0F8"
             },
             "line": {
              "color": "white"
             }
            },
            "header": {
             "fill": {
              "color": "#C8D4E3"
             },
             "line": {
              "color": "white"
             }
            },
            "type": "table"
           }
          ]
         },
         "layout": {
          "annotationdefaults": {
           "arrowcolor": "#2a3f5f",
           "arrowhead": 0,
           "arrowwidth": 1
          },
          "autotypenumbers": "strict",
          "coloraxis": {
           "colorbar": {
            "outlinewidth": 0,
            "ticks": ""
           }
          },
          "colorscale": {
           "diverging": [
            [
             0,
             "#8e0152"
            ],
            [
             0.1,
             "#c51b7d"
            ],
            [
             0.2,
             "#de77ae"
            ],
            [
             0.3,
             "#f1b6da"
            ],
            [
             0.4,
             "#fde0ef"
            ],
            [
             0.5,
             "#f7f7f7"
            ],
            [
             0.6,
             "#e6f5d0"
            ],
            [
             0.7,
             "#b8e186"
            ],
            [
             0.8,
             "#7fbc41"
            ],
            [
             0.9,
             "#4d9221"
            ],
            [
             1,
             "#276419"
            ]
           ],
           "sequential": [
            [
             0,
             "#0d0887"
            ],
            [
             0.1111111111111111,
             "#46039f"
            ],
            [
             0.2222222222222222,
             "#7201a8"
            ],
            [
             0.3333333333333333,
             "#9c179e"
            ],
            [
             0.4444444444444444,
             "#bd3786"
            ],
            [
             0.5555555555555556,
             "#d8576b"
            ],
            [
             0.6666666666666666,
             "#ed7953"
            ],
            [
             0.7777777777777778,
             "#fb9f3a"
            ],
            [
             0.8888888888888888,
             "#fdca26"
            ],
            [
             1,
             "#f0f921"
            ]
           ],
           "sequentialminus": [
            [
             0,
             "#0d0887"
            ],
            [
             0.1111111111111111,
             "#46039f"
            ],
            [
             0.2222222222222222,
             "#7201a8"
            ],
            [
             0.3333333333333333,
             "#9c179e"
            ],
            [
             0.4444444444444444,
             "#bd3786"
            ],
            [
             0.5555555555555556,
             "#d8576b"
            ],
            [
             0.6666666666666666,
             "#ed7953"
            ],
            [
             0.7777777777777778,
             "#fb9f3a"
            ],
            [
             0.8888888888888888,
             "#fdca26"
            ],
            [
             1,
             "#f0f921"
            ]
           ]
          },
          "colorway": [
           "#636efa",
           "#EF553B",
           "#00cc96",
           "#ab63fa",
           "#FFA15A",
           "#19d3f3",
           "#FF6692",
           "#B6E880",
           "#FF97FF",
           "#FECB52"
          ],
          "font": {
           "color": "#2a3f5f"
          },
          "geo": {
           "bgcolor": "white",
           "lakecolor": "white",
           "landcolor": "#E5ECF6",
           "showlakes": true,
           "showland": true,
           "subunitcolor": "white"
          },
          "hoverlabel": {
           "align": "left"
          },
          "hovermode": "closest",
          "mapbox": {
           "style": "light"
          },
          "paper_bgcolor": "white",
          "plot_bgcolor": "#E5ECF6",
          "polar": {
           "angularaxis": {
            "gridcolor": "white",
            "linecolor": "white",
            "ticks": ""
           },
           "bgcolor": "#E5ECF6",
           "radialaxis": {
            "gridcolor": "white",
            "linecolor": "white",
            "ticks": ""
           }
          },
          "scene": {
           "xaxis": {
            "backgroundcolor": "#E5ECF6",
            "gridcolor": "white",
            "gridwidth": 2,
            "linecolor": "white",
            "showbackground": true,
            "ticks": "",
            "zerolinecolor": "white"
           },
           "yaxis": {
            "backgroundcolor": "#E5ECF6",
            "gridcolor": "white",
            "gridwidth": 2,
            "linecolor": "white",
            "showbackground": true,
            "ticks": "",
            "zerolinecolor": "white"
           },
           "zaxis": {
            "backgroundcolor": "#E5ECF6",
            "gridcolor": "white",
            "gridwidth": 2,
            "linecolor": "white",
            "showbackground": true,
            "ticks": "",
            "zerolinecolor": "white"
           }
          },
          "shapedefaults": {
           "line": {
            "color": "#2a3f5f"
           }
          },
          "ternary": {
           "aaxis": {
            "gridcolor": "white",
            "linecolor": "white",
            "ticks": ""
           },
           "baxis": {
            "gridcolor": "white",
            "linecolor": "white",
            "ticks": ""
           },
           "bgcolor": "#E5ECF6",
           "caxis": {
            "gridcolor": "white",
            "linecolor": "white",
            "ticks": ""
           }
          },
          "title": {
           "x": 0.05
          },
          "xaxis": {
           "automargin": true,
           "gridcolor": "white",
           "linecolor": "white",
           "ticks": "",
           "title": {
            "standoff": 15
           },
           "zerolinecolor": "white",
           "zerolinewidth": 2
          },
          "yaxis": {
           "automargin": true,
           "gridcolor": "white",
           "linecolor": "white",
           "ticks": "",
           "title": {
            "standoff": 15
           },
           "zerolinecolor": "white",
           "zerolinewidth": 2
          }
         }
        },
        "title": {
         "text": "BRM to BIM"
        },
        "uniformtext": {
         "minsize": 12,
         "mode": "show"
        },
        "width": 1650
       }
      },
      "text/html": [
       "<div>                            <div id=\"dd0a073e-5c2c-4232-90d0-6057f1b9ee66\" class=\"plotly-graph-div\" style=\"height:800px; width:1650px;\"></div>            <script type=\"text/javascript\">                require([\"plotly\"], function(Plotly) {                    window.PLOTLYENV=window.PLOTLYENV || {};                                    if (document.getElementById(\"dd0a073e-5c2c-4232-90d0-6057f1b9ee66\")) {                    Plotly.newPlot(                        \"dd0a073e-5c2c-4232-90d0-6057f1b9ee66\",                        [{\"branchvalues\":\"total\",\"customdata\":[[\"blue\"],[\"blue\"],[\"blue\"],[\"blue\"],[\"blue\"],[\"blue\"],[\"blue\"],[\"blue\"],[\"blue\"],[\"blue\"],[\"blue\"],[\"blue\"],[\"blue\"],[\"blue\"],[\"blue\"],[\"blue\"],[\"blue\"],[\"blue\"],[\"blue\"],[\"blue\"],[\"blue\"],[\"blue\"],[\"blue\"],[\"blue\"],[\"blue\"],[\"blue\"],[\"blue\"],[\"blue\"],[\"blue\"],[\"blue\"],[\"blue\"],[\"blue\"],[\"blue\"],[\"blue\"],[\"blue\"],[\"blue\"],[\"blue\"],[\"blue\"],[\"blue\"],[\"blue\"],[\"blue\"],[\"blue\"],[\"blue\"],[\"blue\"],[\"blue\"],[\"blue\"],[\"blue\"],[\"blue\"],[\"blue\"],[\"blue\"],[\"blue\"],[\"blue\"],[\"blue\"],[\"blue\"],[\"blue\"],[\"blue\"],[\"blue\"],[\"blue\"],[\"blue\"],[\"blue\"],[\"blue\"],[\"blue\"],[\"blue\"],[\"blue\"],[\"blue\"],[\"blue\"],[\"blue\"],[\"blue\"],[\"blue\"],[\"blue\"],[\"blue\"],[\"blue\"],[\"blue\"],[\"blue\"],[\"blue\"],[\"blue\"],[\"blue\"],[\"blue\"],[\"blue\"],[\"blue\"],[\"blue\"],[\"blue\"],[\"blue\"],[\"blue\"],[\"blue\"],[\"blue\"],[\"blue\"],[\"blue\"],[\"blue\"],[\"blue\"],[\"blue\"],[\"blue\"],[\"blue\"],[\"blue\"],[\"blue\"],[\"blue\"],[\"blue\"],[\"blue\"],[\"blue\"],[\"blue\"],[\"blue\"],[\"blue\"],[\"blue\"],[\"blue\"],[\"blue\"],[\"blue\"],[\"blue\"],[\"blue\"],[\"blue\"],[\"blue\"],[\"blue\"],[\"blue\"],[\"blue\"],[\"blue\"],[\"blue\"],[\"blue\"],[\"blue\"],[\"blue\"],[\"blue\"],[\"blue\"],[\"blue\"],[\"blue\"],[\"blue\"],[\"blue\"],[\"blue\"],[\"blue\"],[\"blue\"],[\"blue\"],[\"blue\"],[\"blue\"],[\"blue\"],[\"blue\"],[\"blue\"],[\"blue\"],[\"blue\"],[\"blue\"],[\"blue\"],[\"blue\"],[\"blue\"],[\"blue\"],[\"blue\"],[\"blue\"],[\"blue\"],[\"blue\"],[\"blue\"],[\"blue\"],[\"blue\"],[\"blue\"],[\"blue\"],[\"blue\"],[\"blue\"],[\"blue\"],[\"blue\"],[\"blue\"],[\"blue\"],[\"blue\"],[\"blue\"],[\"blue\"],[\"blue\"],[\"blue\"],[\"blue\"],[\"blue\"],[\"blue\"],[\"blue\"],[\"blue\"],[\"blue\"],[\"blue\"],[\"blue\"],[\"blue\"],[\"blue\"],[\"blue\"],[\"blue\"],[\"blue\"],[\"blue\"],[\"blue\"],[\"blue\"]],\"domain\":{\"x\":[0.0,1.0],\"y\":[0.0,1.0]},\"hovertemplate\":\"labels=%{label}<br>value=%{value}<br>parent=%{parent}<br>id=%{id}<br>Color=%{customdata[0]}<extra></extra>\",\"ids\":[\"Administer Benefits/\",\"Legislative, & Regulatory Affairs/Legislative<br>Proposals\",\"Administer Benefits/Life<br>Insurance<br>Benefits\",\"Administer Benefits/Loan<br>Guaranty\",\"Property Mgmt/Long-Range<br>&<br>Annual<br>Capital<br>Investments\",\"Enterprise Governance/Manage<br>Advisory<br>Committees<br>\",\"Process Benefit/Manage<br>Benefit<br>Award\",\"Physical & Personnel Security/Law<br>Enforcement\",\"External Veterans Affairs Relationships/Manage<br>Partnerships\",\"Public Health/Medical<br>Registry<br>Svc\",\"Org Leadership & Admin Support/Office<br>Admin<br>Support<br>Functions\",\"Org Leadership & Admin Support/Org<br>Leadership<br>&<br>Oversight\",\"Financial Mgmt/Payable<br>Mgmt\",\"Administer Benefits/Pension<br>&<br>Fiduciary<br>Benefits\",\"Enterprise Governance/Perf<br>&<br>Risk\",\"Human Capital Mgmt/Manage<br>Volunteers\",\"Human Capital Mgmt/Labor<br>Relations\",\"Manage Information/Knowledge<br>Capture<br>&<br>Sharing\",\"Property Mgmt/Inventory<br>&<br>Equipment\",\"Health Care Admin/Health<br>Care<br>Business\",\"Health Care Research/Health<br>Care<br>Research\",\"Deliver Health Care/Health<br>Related<br>Services\",\"Health Care Admin/Hospital<br>Admin\",\"Human Capital Mgmt/Human<br>Capital<br>Strat,<br>Policy,<br>&<br>Ops<br>Plan\",\"IT Services/IT<br>Infrastructure\",\"IT Services/IT<br>Operations\",\"IT Services/IT<br>Portfolio<br>Mgmt\",\"IT Services/IT<br>Security\",\"IT Services/IT<br>Systems<br>Lifecycle\",\"Physical & Personnel Security/Identification,<br>Authentication<br>&<br>Access\",\"Manage Information/Information<br>Security\",\"Security Operations/Integrated<br>Operations<br>Center\",\"Memorial Benefits & Services/Interment<br>Services\",\"Mail Operations Mgmt/Interoffice<br>&<br>Interagency<br>Mail\",\"Enterprise Governance/Perf<br>Improvement\",\"Property Mgmt/Property<br>Acq<br>&<br>Control\",\"Property Mgmt/Property<br>Design<br>&<br>Dev\",\"Property Mgmt/Property<br>Operations<br>Mgmt\",\"Travel, Relocation & Fleet Mgmt/Subsidy<br>Program<br>Mgmt\",\"Human Capital Mgmt/Talent<br>Acq\",\"Human Capital Mgmt/Talent<br>Dev\",\"Travel, Relocation & Fleet Mgmt/Temporary<br>&<br>Permanent<br>Change<br>of<br>Station\",\"Travel, Relocation & Fleet Mgmt/Temporary<br>Duty<br>&<br>Local<br>Travel<br>Processing\",\"Administer Benefits/Transition<br>Assistance<br>Benefits\",\"Travel, Relocation & Fleet Mgmt/Travel<br>&<br>Fleet<br>Card<br>Mgmt\",\"Mail Operations Mgmt/USPS<br>&<br>Other<br>Carrier<br>Mail\",\"Legislative, & Regulatory Affairs/VA's<br>Legislative<br>Strategy<br>&<br>Priorities\",\"Health Care Education/VHA<br>Clinical<br>Health<br>Trainees<br>Oversight\",\"Memorial Benefits & Services/Veteran<br>Interments<br>Memorial<br>Services\",\"Memorial Benefits & Services/Veteran<br>Memorialization\",\"Human Capital Mgmt/Workforce<br>Analytics<br>&<br>Employee<br>Records\",\"Health Care Research/Write<br>Research<br>Proposals\",\"Acq Mgmt\",\"Mail Operations Mgmt/Special<br>Handling<br>&<br>Delivery<br>Mail\",\"Public Health/Health<br>Agencies\",\"Health Care Research/Share<br>Research<br>Results\",\"Sales Order & Fulfillment Mgmt/Sales<br>Ordering<br>Mgmt\",\"Public Health/Public<br>Health<br>Alerts\",\"Public Health/Public<br>Health<br>Assessment\",\"External Veterans Affairs Relationships/Public<br>Relations\",\"Acq Mgmt/Purchase<br>Card<br>Mgmt\",\"Acq Mgmt/Purchase<br>Catalog<br>Mgmt\",\"Financial Mgmt/Receivable<br>&<br>Collection<br>Mgmt\",\"Legislative, & Regulatory Affairs/Regulatory<br>Development\",\"Financial Mgmt/Reimbursable<br>Mgmt\",\"Health Care Education/Relationships<br>with<br>External<br>Institutions\",\"Health Care Research/Research<br>Environment\",\"Health Care Research/Research<br>Strategic<br>Direction\",\"Security Operations/Respond<br>to<br>Disasters\",\"Financial Mgmt/Revenue<br>Mgmt\",\"Sales Order & Fulfillment Mgmt/Sales<br>Customer<br>Relationship<br>Mgmt\",\"Sales Order & Fulfillment Mgmt/Sales<br>Inventory/Fulfillment<br>Mgmt\",\"Human Capital Mgmt/Separation<br>&<br>Retirement\",\"Memorial Benefits & Services/Guest<br>&<br>Family<br>Visitation\",\"Grants Mgmt/Grant<br>Recipient<br>Oversight\",\"Grants Mgmt/Grant<br>Program<br>Oversight\",\"Manage Appeals/Adjudicate<br>Appeal<br>to<br>Board\",\"Administer Benefits/Admin<br>Vet<br>Readiness<br>and<br>Employ<br>Benefits\",\"Human Capital Mgmt/Agency<br>Human<br>Capital<br>Eval\",\"Financial Mgmt/Agent<br>Cashier\",\"Deliver Health Care/Ancillary<br>Services\",\"Health Care Research/Apply<br>Research<br>Results\",\"External Veterans Affairs Relationships/Benefits<br>&<br>Services<br>Outreach\",\"Financial Mgmt/Budget<br>Execution\",\"Budget Formulation/Budget<br>Preparation<br>Analysis\",\"Budget Formulation/Budget<br>Request<br>Planning<br>&<br>Submission\",\"Budget Formulation/Budget<br>Spend<br>Planning<br>&<br>Monitoring\",\"Manage Information/Business<br>Intelligence<br>Services\",\"Memorial Benefits & Services/Cemetery<br>Grounds<br>and<br>Gravesites\",\"Memorial Benefits & Services/Ceremonial<br>Services<br>Holidays<br>&<br>Events\",\"Deliver Health Care/Clinical<br>Care<br>Services\",\"Acq Mgmt/Acq<br>Source<br>Selection\",\"Public Health/Clinical<br>Public<br>Health\",\"Acq Mgmt/Acq<br>Planning\",\"Enterprise Governance/Accountability<br>&<br>Compliance\",\"Budget Formulation/\",\"Coordinate Homeless Program/\",\"Enterprise Governance/\",\"Health Care Research/\",\"Human Capital Mgmt/\",\"IT Services/\",\"Legal Guidance & Representation/\",\"Mail Operations Mgmt/\",\"Manage Information/\",\"Memorial Benefits & Services/\",\"Physical & Personnel Security/\",\"Property Mgmt/\",\"Sales Order & Fulfillment Mgmt/\",\"Travel, Relocation & Fleet Mgmt/\",\"Veterans Employment & Retention/\",\"Acq Mgmt/Acq<br>Package<br>Preparation\",\"Administer Benefits\",\"Deliver Health Care/Common<br>Clinical<br>Support\",\"Administer Benefits/Compensation<br>Services\",\"Public Health/Environmental<br>Health\",\"Process Benefit/Establish<br>Claim\",\"Health Care Research/Evaluate<br>Research<br>Proposals\",\"Physical & Personnel Security/Executive<br>Protection\",\"Physical & Personnel Security/Facility<br>Security\",\"Financial Mgmt/Financial<br>/<br>Perf<br>Rptg\",\"Financial Mgmt/Financial<br>Asset<br>Info<br>Mgmt\",\"Financial Mgmt/Financial<br>Reconciliation\",\"Travel, Relocation & Fleet Mgmt/Fleet<br>Mgmt\",\"Financial Mgmt/General<br>Ledger<br>Mgmt\",\"Manage Information/Government<br>Records\",\"Grants Mgmt/Grant<br>Award<br>Mgmt\",\"Grants Mgmt/Grant<br>Post-Award<br>Mgmt<br>&<br>Closeout\",\"Grants Mgmt/Grant<br>Pre-Award<br>Mgmt\",\"Grants Mgmt/Grant<br>Program<br>Admin\",\"Enterprise Governance/Enterprise<br>Requirements<br>Mgmt\",\"Human Capital Mgmt/Compensation<br>&<br>Benefits\",\"Manage Information/Enterprise<br>Data<br>Mgmt\",\"Physical & Personnel Security/Enforcement<br>Oversight\",\"Legislative, & Regulatory Affairs/Congressional<br>Liaison<br>Operations\",\"Acq Mgmt/Contracts<br>Admin\",\"Security Operations/Coordinate<br>Continuity<br>Ops\",\"Financial Mgmt/Cost<br>Mgmt\",\"External Veterans Affairs Relationships/Customer<br>Services\",\"Manage Information/Data<br>Governance<br>\",\"Manage Appeals/Decision<br>Reviews\",\"Financial Mgmt/Delinquent<br>Debt<br>Mgmt\",\"Process Benefit/Determine<br>Entitlement\",\"Process Benefit/Develop<br>Claim\",\"Security Operations/Disasters<br>and<br>Emergencies\",\"Memorial Benefits & Services/Disinterments<br>Services\",\"Administer Benefits/Education<br>Services\",\"Human Capital Mgmt/Employee<br>Perf<br>Mgmt\",\"Human Capital Mgmt/Employee<br>Relation<br>&<br>Continuous<br>Vetting\",\"Manage Information/Enterprise<br>Architecture\",\"Budget Formulation\",\"Coordinate Homeless Program\",\"Deliver Health Care\",\"Enterprise Governance\",\"External Veterans Affairs Relationships\",\"Financial Mgmt\",\"Grants Mgmt\",\"Health Care Admin\",\"Health Care Education\",\"Health Care Research\",\"Human Capital Mgmt\",\"IT Services\",\"Legal Guidance & Representation\",\"Legislative, & Regulatory Affairs\",\"Mail Operations Mgmt\",\"Manage Appeals\",\"Manage Information\",\"Memorial Benefits & Services\",\"Org Leadership & Admin Support\",\"Physical & Personnel Security\",\"Process Benefit\",\"Property Mgmt\",\"Public Health\",\"Sales Order & Fulfillment Mgmt\",\"Security Operations\",\"Travel, Relocation & Fleet Mgmt\",\"Veterans Employment & Retention\"],\"labels\":[\"\",\"Legislative<br>Proposals\",\"Life<br>Insurance<br>Benefits\",\"Loan<br>Guaranty\",\"Long-Range<br>&<br>Annual<br>Capital<br>Investments\",\"Manage<br>Advisory<br>Committees<br>\",\"Manage<br>Benefit<br>Award\",\"Law<br>Enforcement\",\"Manage<br>Partnerships\",\"Medical<br>Registry<br>Svc\",\"Office<br>Admin<br>Support<br>Functions\",\"Org<br>Leadership<br>&<br>Oversight\",\"Payable<br>Mgmt\",\"Pension<br>&<br>Fiduciary<br>Benefits\",\"Perf<br>&<br>Risk\",\"Manage<br>Volunteers\",\"Labor<br>Relations\",\"Knowledge<br>Capture<br>&<br>Sharing\",\"Inventory<br>&<br>Equipment\",\"Health<br>Care<br>Business\",\"Health<br>Care<br>Research\",\"Health<br>Related<br>Services\",\"Hospital<br>Admin\",\"Human<br>Capital<br>Strat,<br>Policy,<br>&<br>Ops<br>Plan\",\"IT<br>Infrastructure\",\"IT<br>Operations\",\"IT<br>Portfolio<br>Mgmt\",\"IT<br>Security\",\"IT<br>Systems<br>Lifecycle\",\"Identification,<br>Authentication<br>&<br>Access\",\"Information<br>Security\",\"Integrated<br>Operations<br>Center\",\"Interment<br>Services\",\"Interoffice<br>&<br>Interagency<br>Mail\",\"Perf<br>Improvement\",\"Property<br>Acq<br>&<br>Control\",\"Property<br>Design<br>&<br>Dev\",\"Property<br>Operations<br>Mgmt\",\"Subsidy<br>Program<br>Mgmt\",\"Talent<br>Acq\",\"Talent<br>Dev\",\"Temporary<br>&<br>Permanent<br>Change<br>of<br>Station\",\"Temporary<br>Duty<br>&<br>Local<br>Travel<br>Processing\",\"Transition<br>Assistance<br>Benefits\",\"Travel<br>&<br>Fleet<br>Card<br>Mgmt\",\"USPS<br>&<br>Other<br>Carrier<br>Mail\",\"VA's<br>Legislative<br>Strategy<br>&<br>Priorities\",\"VHA<br>Clinical<br>Health<br>Trainees<br>Oversight\",\"Veteran<br>Interments<br>Memorial<br>Services\",\"Veteran<br>Memorialization\",\"Workforce<br>Analytics<br>&<br>Employee<br>Records\",\"Write<br>Research<br>Proposals\",\"Acq Mgmt\",\"Special<br>Handling<br>&<br>Delivery<br>Mail\",\"Health<br>Agencies\",\"Share<br>Research<br>Results\",\"Sales<br>Ordering<br>Mgmt\",\"Public<br>Health<br>Alerts\",\"Public<br>Health<br>Assessment\",\"Public<br>Relations\",\"Purchase<br>Card<br>Mgmt\",\"Purchase<br>Catalog<br>Mgmt\",\"Receivable<br>&<br>Collection<br>Mgmt\",\"Regulatory<br>Development\",\"Reimbursable<br>Mgmt\",\"Relationships<br>with<br>External<br>Institutions\",\"Research<br>Environment\",\"Research<br>Strategic<br>Direction\",\"Respond<br>to<br>Disasters\",\"Revenue<br>Mgmt\",\"Sales<br>Customer<br>Relationship<br>Mgmt\",\"Sales<br>Inventory/Fulfillment<br>Mgmt\",\"Separation<br>&<br>Retirement\",\"Guest<br>&<br>Family<br>Visitation\",\"Grant<br>Recipient<br>Oversight\",\"Grant<br>Program<br>Oversight\",\"Adjudicate<br>Appeal<br>to<br>Board\",\"Admin<br>Vet<br>Readiness<br>and<br>Employ<br>Benefits\",\"Agency<br>Human<br>Capital<br>Eval\",\"Agent<br>Cashier\",\"Ancillary<br>Services\",\"Apply<br>Research<br>Results\",\"Benefits<br>&<br>Services<br>Outreach\",\"Budget<br>Execution\",\"Budget<br>Preparation<br>Analysis\",\"Budget<br>Request<br>Planning<br>&<br>Submission\",\"Budget<br>Spend<br>Planning<br>&<br>Monitoring\",\"Business<br>Intelligence<br>Services\",\"Cemetery<br>Grounds<br>and<br>Gravesites\",\"Ceremonial<br>Services<br>Holidays<br>&<br>Events\",\"Clinical<br>Care<br>Services\",\"Acq<br>Source<br>Selection\",\"Clinical<br>Public<br>Health\",\"Acq<br>Planning\",\"Accountability<br>&<br>Compliance\",\"\",\"\",\"\",\"\",\"\",\"\",\"\",\"\",\"\",\"\",\"\",\"\",\"\",\"\",\"\",\"Acq<br>Package<br>Preparation\",\"Administer Benefits\",\"Common<br>Clinical<br>Support\",\"Compensation<br>Services\",\"Environmental<br>Health\",\"Establish<br>Claim\",\"Evaluate<br>Research<br>Proposals\",\"Executive<br>Protection\",\"Facility<br>Security\",\"Financial<br>/<br>Perf<br>Rptg\",\"Financial<br>Asset<br>Info<br>Mgmt\",\"Financial<br>Reconciliation\",\"Fleet<br>Mgmt\",\"General<br>Ledger<br>Mgmt\",\"Government<br>Records\",\"Grant<br>Award<br>Mgmt\",\"Grant<br>Post-Award<br>Mgmt<br>&<br>Closeout\",\"Grant<br>Pre-Award<br>Mgmt\",\"Grant<br>Program<br>Admin\",\"Enterprise<br>Requirements<br>Mgmt\",\"Compensation<br>&<br>Benefits\",\"Enterprise<br>Data<br>Mgmt\",\"Enforcement<br>Oversight\",\"Congressional<br>Liaison<br>Operations\",\"Contracts<br>Admin\",\"Coordinate<br>Continuity<br>Ops\",\"Cost<br>Mgmt\",\"Customer<br>Services\",\"Data<br>Governance<br>\",\"Decision<br>Reviews\",\"Delinquent<br>Debt<br>Mgmt\",\"Determine<br>Entitlement\",\"Develop<br>Claim\",\"Disasters<br>and<br>Emergencies\",\"Disinterments<br>Services\",\"Education<br>Services\",\"Employee<br>Perf<br>Mgmt\",\"Employee<br>Relation<br>&<br>Continuous<br>Vetting\",\"Enterprise<br>Architecture\",\"Budget Formulation\",\"Coordinate Homeless Program\",\"Deliver Health Care\",\"Enterprise Governance\",\"External Veterans Affairs Relationships\",\"Financial Mgmt\",\"Grants Mgmt\",\"Health Care Admin\",\"Health Care Education\",\"Health Care Research\",\"Human Capital Mgmt\",\"IT Services\",\"Legal Guidance & Representation\",\"Legislative, & Regulatory Affairs\",\"Mail Operations Mgmt\",\"Manage Appeals\",\"Manage Information\",\"Memorial Benefits & Services\",\"Org Leadership & Admin Support\",\"Physical & Personnel Security\",\"Process Benefit\",\"Property Mgmt\",\"Public Health\",\"Sales Order & Fulfillment Mgmt\",\"Security Operations\",\"Travel, Relocation & Fleet Mgmt\",\"Veterans Employment & Retention\"],\"marker\":{\"colors\":[\"#636efa\",\"#636efa\",\"#636efa\",\"#636efa\",\"#636efa\",\"#636efa\",\"#636efa\",\"#636efa\",\"#636efa\",\"#636efa\",\"#636efa\",\"#636efa\",\"#636efa\",\"#636efa\",\"#636efa\",\"#636efa\",\"#636efa\",\"#636efa\",\"#636efa\",\"#636efa\",\"#636efa\",\"#636efa\",\"#636efa\",\"#636efa\",\"#636efa\",\"#636efa\",\"#636efa\",\"#636efa\",\"#636efa\",\"#636efa\",\"#636efa\",\"#636efa\",\"#636efa\",\"#636efa\",\"#636efa\",\"#636efa\",\"#636efa\",\"#636efa\",\"#636efa\",\"#636efa\",\"#636efa\",\"#636efa\",\"#636efa\",\"#636efa\",\"#636efa\",\"#636efa\",\"#636efa\",\"#636efa\",\"#636efa\",\"#636efa\",\"#636efa\",\"#636efa\",\"#636efa\",\"#636efa\",\"#636efa\",\"#636efa\",\"#636efa\",\"#636efa\",\"#636efa\",\"#636efa\",\"#636efa\",\"#636efa\",\"#636efa\",\"#636efa\",\"#636efa\",\"#636efa\",\"#636efa\",\"#636efa\",\"#636efa\",\"#636efa\",\"#636efa\",\"#636efa\",\"#636efa\",\"#636efa\",\"#636efa\",\"#636efa\",\"#636efa\",\"#636efa\",\"#636efa\",\"#636efa\",\"#636efa\",\"#636efa\",\"#636efa\",\"#636efa\",\"#636efa\",\"#636efa\",\"#636efa\",\"#636efa\",\"#636efa\",\"#636efa\",\"#636efa\",\"#636efa\",\"#636efa\",\"#636efa\",\"#636efa\",\"#636efa\",\"#636efa\",\"#636efa\",\"#636efa\",\"#636efa\",\"#636efa\",\"#636efa\",\"#636efa\",\"#636efa\",\"#636efa\",\"#636efa\",\"#636efa\",\"#636efa\",\"#636efa\",\"#636efa\",\"#636efa\",\"#636efa\",\"#636efa\",\"#636efa\",\"#636efa\",\"#636efa\",\"#636efa\",\"#636efa\",\"#636efa\",\"#636efa\",\"#636efa\",\"#636efa\",\"#636efa\",\"#636efa\",\"#636efa\",\"#636efa\",\"#636efa\",\"#636efa\",\"#636efa\",\"#636efa\",\"#636efa\",\"#636efa\",\"#636efa\",\"#636efa\",\"#636efa\",\"#636efa\",\"#636efa\",\"#636efa\",\"#636efa\",\"#636efa\",\"#636efa\",\"#636efa\",\"#636efa\",\"#636efa\",\"#636efa\",\"#636efa\",\"#636efa\",\"#636efa\",\"#636efa\",\"#636efa\",\"#636efa\",\"#636efa\",\"#636efa\",\"#636efa\",\"#636efa\",\"#636efa\",\"#636efa\",\"#636efa\",\"#636efa\",\"#636efa\",\"#636efa\",\"#636efa\",\"#636efa\",\"#636efa\",\"#636efa\",\"#636efa\",\"#636efa\",\"#636efa\",\"#636efa\",\"#636efa\",\"#636efa\",\"#636efa\",\"#636efa\",\"#636efa\",\"#636efa\",\"#636efa\"]},\"name\":\"\",\"parents\":[\"Administer Benefits\",\"Legislative, & Regulatory Affairs\",\"Administer Benefits\",\"Administer Benefits\",\"Property Mgmt\",\"Enterprise Governance\",\"Process Benefit\",\"Physical & Personnel Security\",\"External Veterans Affairs Relationships\",\"Public Health\",\"Org Leadership & Admin Support\",\"Org Leadership & Admin Support\",\"Financial Mgmt\",\"Administer Benefits\",\"Enterprise Governance\",\"Human Capital Mgmt\",\"Human Capital Mgmt\",\"Manage Information\",\"Property Mgmt\",\"Health Care Admin\",\"Health Care Research\",\"Deliver Health Care\",\"Health Care Admin\",\"Human Capital Mgmt\",\"IT Services\",\"IT Services\",\"IT Services\",\"IT Services\",\"IT Services\",\"Physical & Personnel Security\",\"Manage Information\",\"Security Operations\",\"Memorial Benefits & Services\",\"Mail Operations Mgmt\",\"Enterprise Governance\",\"Property Mgmt\",\"Property Mgmt\",\"Property Mgmt\",\"Travel, Relocation & Fleet Mgmt\",\"Human Capital Mgmt\",\"Human Capital Mgmt\",\"Travel, Relocation & Fleet Mgmt\",\"Travel, Relocation & Fleet Mgmt\",\"Administer Benefits\",\"Travel, Relocation & Fleet Mgmt\",\"Mail Operations Mgmt\",\"Legislative, & Regulatory Affairs\",\"Health Care Education\",\"Memorial Benefits & Services\",\"Memorial Benefits & Services\",\"Human Capital Mgmt\",\"Health Care Research\",\"\",\"Mail Operations Mgmt\",\"Public Health\",\"Health Care Research\",\"Sales Order & Fulfillment Mgmt\",\"Public Health\",\"Public Health\",\"External Veterans Affairs Relationships\",\"Acq Mgmt\",\"Acq Mgmt\",\"Financial Mgmt\",\"Legislative, & Regulatory Affairs\",\"Financial Mgmt\",\"Health Care Education\",\"Health Care Research\",\"Health Care Research\",\"Security Operations\",\"Financial Mgmt\",\"Sales Order & Fulfillment Mgmt\",\"Sales Order & Fulfillment Mgmt\",\"Human Capital Mgmt\",\"Memorial Benefits & Services\",\"Grants Mgmt\",\"Grants Mgmt\",\"Manage Appeals\",\"Administer Benefits\",\"Human Capital Mgmt\",\"Financial Mgmt\",\"Deliver Health Care\",\"Health Care Research\",\"External Veterans Affairs Relationships\",\"Financial Mgmt\",\"Budget Formulation\",\"Budget Formulation\",\"Budget Formulation\",\"Manage Information\",\"Memorial Benefits & Services\",\"Memorial Benefits & Services\",\"Deliver Health Care\",\"Acq Mgmt\",\"Public Health\",\"Acq Mgmt\",\"Enterprise Governance\",\"Budget Formulation\",\"Coordinate Homeless Program\",\"Enterprise Governance\",\"Health Care Research\",\"Human Capital Mgmt\",\"IT Services\",\"Legal Guidance & Representation\",\"Mail Operations Mgmt\",\"Manage Information\",\"Memorial Benefits & Services\",\"Physical & Personnel Security\",\"Property Mgmt\",\"Sales Order & Fulfillment Mgmt\",\"Travel, Relocation & Fleet Mgmt\",\"Veterans Employment & Retention\",\"Acq Mgmt\",\"\",\"Deliver Health Care\",\"Administer Benefits\",\"Public Health\",\"Process Benefit\",\"Health Care Research\",\"Physical & Personnel Security\",\"Physical & Personnel Security\",\"Financial Mgmt\",\"Financial Mgmt\",\"Financial Mgmt\",\"Travel, Relocation & Fleet Mgmt\",\"Financial Mgmt\",\"Manage Information\",\"Grants Mgmt\",\"Grants Mgmt\",\"Grants Mgmt\",\"Grants Mgmt\",\"Enterprise Governance\",\"Human Capital Mgmt\",\"Manage Information\",\"Physical & Personnel Security\",\"Legislative, & Regulatory Affairs\",\"Acq Mgmt\",\"Security Operations\",\"Financial Mgmt\",\"External Veterans Affairs Relationships\",\"Manage Information\",\"Manage Appeals\",\"Financial Mgmt\",\"Process Benefit\",\"Process Benefit\",\"Security Operations\",\"Memorial Benefits & Services\",\"Administer Benefits\",\"Human Capital Mgmt\",\"Human Capital Mgmt\",\"Manage Information\",\"\",\"\",\"\",\"\",\"\",\"\",\"\",\"\",\"\",\"\",\"\",\"\",\"\",\"\",\"\",\"\",\"\",\"\",\"\",\"\",\"\",\"\",\"\",\"\",\"\",\"\",\"\"],\"root\":{\"color\":\"lightblue\"},\"type\":\"treemap\",\"values\":[1,1,1,1,1,1,1,1,1,1,1,1,1,1,1,1,1,1,1,1,1,1,1,1,1,1,1,1,1,1,1,1,1,1,1,1,1,1,1,1,1,1,1,1,1,1,1,1,1,1,1,1,6,1,1,1,1,1,1,1,1,1,1,1,1,1,1,1,1,1,1,1,1,1,1,1,1,1,1,1,1,1,1,1,1,1,1,1,1,1,1,1,1,1,1,1,2,1,1,1,1,2,1,1,1,1,1,1,1,2,1,8,1,1,1,1,1,1,1,1,1,1,1,1,1,1,1,1,1,1,1,1,1,1,1,1,1,1,1,1,1,1,1,1,1,1,1,1,1,4,2,4,6,4,12,6,2,2,8,12,6,2,4,4,2,8,8,2,6,4,6,6,4,4,6,2]}],                        {\"autosize\":false,\"height\":800,\"legend\":{\"tracegroupgap\":0},\"template\":{\"data\":{\"bar\":[{\"error_x\":{\"color\":\"#2a3f5f\"},\"error_y\":{\"color\":\"#2a3f5f\"},\"marker\":{\"line\":{\"color\":\"#E5ECF6\",\"width\":0.5},\"pattern\":{\"fillmode\":\"overlay\",\"size\":10,\"solidity\":0.2}},\"type\":\"bar\"}],\"barpolar\":[{\"marker\":{\"line\":{\"color\":\"#E5ECF6\",\"width\":0.5},\"pattern\":{\"fillmode\":\"overlay\",\"size\":10,\"solidity\":0.2}},\"type\":\"barpolar\"}],\"carpet\":[{\"aaxis\":{\"endlinecolor\":\"#2a3f5f\",\"gridcolor\":\"white\",\"linecolor\":\"white\",\"minorgridcolor\":\"white\",\"startlinecolor\":\"#2a3f5f\"},\"baxis\":{\"endlinecolor\":\"#2a3f5f\",\"gridcolor\":\"white\",\"linecolor\":\"white\",\"minorgridcolor\":\"white\",\"startlinecolor\":\"#2a3f5f\"},\"type\":\"carpet\"}],\"choropleth\":[{\"colorbar\":{\"outlinewidth\":0,\"ticks\":\"\"},\"type\":\"choropleth\"}],\"contour\":[{\"colorbar\":{\"outlinewidth\":0,\"ticks\":\"\"},\"colorscale\":[[0.0,\"#0d0887\"],[0.1111111111111111,\"#46039f\"],[0.2222222222222222,\"#7201a8\"],[0.3333333333333333,\"#9c179e\"],[0.4444444444444444,\"#bd3786\"],[0.5555555555555556,\"#d8576b\"],[0.6666666666666666,\"#ed7953\"],[0.7777777777777778,\"#fb9f3a\"],[0.8888888888888888,\"#fdca26\"],[1.0,\"#f0f921\"]],\"type\":\"contour\"}],\"contourcarpet\":[{\"colorbar\":{\"outlinewidth\":0,\"ticks\":\"\"},\"type\":\"contourcarpet\"}],\"heatmap\":[{\"colorbar\":{\"outlinewidth\":0,\"ticks\":\"\"},\"colorscale\":[[0.0,\"#0d0887\"],[0.1111111111111111,\"#46039f\"],[0.2222222222222222,\"#7201a8\"],[0.3333333333333333,\"#9c179e\"],[0.4444444444444444,\"#bd3786\"],[0.5555555555555556,\"#d8576b\"],[0.6666666666666666,\"#ed7953\"],[0.7777777777777778,\"#fb9f3a\"],[0.8888888888888888,\"#fdca26\"],[1.0,\"#f0f921\"]],\"type\":\"heatmap\"}],\"heatmapgl\":[{\"colorbar\":{\"outlinewidth\":0,\"ticks\":\"\"},\"colorscale\":[[0.0,\"#0d0887\"],[0.1111111111111111,\"#46039f\"],[0.2222222222222222,\"#7201a8\"],[0.3333333333333333,\"#9c179e\"],[0.4444444444444444,\"#bd3786\"],[0.5555555555555556,\"#d8576b\"],[0.6666666666666666,\"#ed7953\"],[0.7777777777777778,\"#fb9f3a\"],[0.8888888888888888,\"#fdca26\"],[1.0,\"#f0f921\"]],\"type\":\"heatmapgl\"}],\"histogram\":[{\"marker\":{\"pattern\":{\"fillmode\":\"overlay\",\"size\":10,\"solidity\":0.2}},\"type\":\"histogram\"}],\"histogram2d\":[{\"colorbar\":{\"outlinewidth\":0,\"ticks\":\"\"},\"colorscale\":[[0.0,\"#0d0887\"],[0.1111111111111111,\"#46039f\"],[0.2222222222222222,\"#7201a8\"],[0.3333333333333333,\"#9c179e\"],[0.4444444444444444,\"#bd3786\"],[0.5555555555555556,\"#d8576b\"],[0.6666666666666666,\"#ed7953\"],[0.7777777777777778,\"#fb9f3a\"],[0.8888888888888888,\"#fdca26\"],[1.0,\"#f0f921\"]],\"type\":\"histogram2d\"}],\"histogram2dcontour\":[{\"colorbar\":{\"outlinewidth\":0,\"ticks\":\"\"},\"colorscale\":[[0.0,\"#0d0887\"],[0.1111111111111111,\"#46039f\"],[0.2222222222222222,\"#7201a8\"],[0.3333333333333333,\"#9c179e\"],[0.4444444444444444,\"#bd3786\"],[0.5555555555555556,\"#d8576b\"],[0.6666666666666666,\"#ed7953\"],[0.7777777777777778,\"#fb9f3a\"],[0.8888888888888888,\"#fdca26\"],[1.0,\"#f0f921\"]],\"type\":\"histogram2dcontour\"}],\"mesh3d\":[{\"colorbar\":{\"outlinewidth\":0,\"ticks\":\"\"},\"type\":\"mesh3d\"}],\"parcoords\":[{\"line\":{\"colorbar\":{\"outlinewidth\":0,\"ticks\":\"\"}},\"type\":\"parcoords\"}],\"pie\":[{\"automargin\":true,\"type\":\"pie\"}],\"scatter\":[{\"marker\":{\"colorbar\":{\"outlinewidth\":0,\"ticks\":\"\"}},\"type\":\"scatter\"}],\"scatter3d\":[{\"line\":{\"colorbar\":{\"outlinewidth\":0,\"ticks\":\"\"}},\"marker\":{\"colorbar\":{\"outlinewidth\":0,\"ticks\":\"\"}},\"type\":\"scatter3d\"}],\"scattercarpet\":[{\"marker\":{\"colorbar\":{\"outlinewidth\":0,\"ticks\":\"\"}},\"type\":\"scattercarpet\"}],\"scattergeo\":[{\"marker\":{\"colorbar\":{\"outlinewidth\":0,\"ticks\":\"\"}},\"type\":\"scattergeo\"}],\"scattergl\":[{\"marker\":{\"colorbar\":{\"outlinewidth\":0,\"ticks\":\"\"}},\"type\":\"scattergl\"}],\"scattermapbox\":[{\"marker\":{\"colorbar\":{\"outlinewidth\":0,\"ticks\":\"\"}},\"type\":\"scattermapbox\"}],\"scatterpolar\":[{\"marker\":{\"colorbar\":{\"outlinewidth\":0,\"ticks\":\"\"}},\"type\":\"scatterpolar\"}],\"scatterpolargl\":[{\"marker\":{\"colorbar\":{\"outlinewidth\":0,\"ticks\":\"\"}},\"type\":\"scatterpolargl\"}],\"scatterternary\":[{\"marker\":{\"colorbar\":{\"outlinewidth\":0,\"ticks\":\"\"}},\"type\":\"scatterternary\"}],\"surface\":[{\"colorbar\":{\"outlinewidth\":0,\"ticks\":\"\"},\"colorscale\":[[0.0,\"#0d0887\"],[0.1111111111111111,\"#46039f\"],[0.2222222222222222,\"#7201a8\"],[0.3333333333333333,\"#9c179e\"],[0.4444444444444444,\"#bd3786\"],[0.5555555555555556,\"#d8576b\"],[0.6666666666666666,\"#ed7953\"],[0.7777777777777778,\"#fb9f3a\"],[0.8888888888888888,\"#fdca26\"],[1.0,\"#f0f921\"]],\"type\":\"surface\"}],\"table\":[{\"cells\":{\"fill\":{\"color\":\"#EBF0F8\"},\"line\":{\"color\":\"white\"}},\"header\":{\"fill\":{\"color\":\"#C8D4E3\"},\"line\":{\"color\":\"white\"}},\"type\":\"table\"}]},\"layout\":{\"annotationdefaults\":{\"arrowcolor\":\"#2a3f5f\",\"arrowhead\":0,\"arrowwidth\":1},\"autotypenumbers\":\"strict\",\"coloraxis\":{\"colorbar\":{\"outlinewidth\":0,\"ticks\":\"\"}},\"colorscale\":{\"diverging\":[[0,\"#8e0152\"],[0.1,\"#c51b7d\"],[0.2,\"#de77ae\"],[0.3,\"#f1b6da\"],[0.4,\"#fde0ef\"],[0.5,\"#f7f7f7\"],[0.6,\"#e6f5d0\"],[0.7,\"#b8e186\"],[0.8,\"#7fbc41\"],[0.9,\"#4d9221\"],[1,\"#276419\"]],\"sequential\":[[0.0,\"#0d0887\"],[0.1111111111111111,\"#46039f\"],[0.2222222222222222,\"#7201a8\"],[0.3333333333333333,\"#9c179e\"],[0.4444444444444444,\"#bd3786\"],[0.5555555555555556,\"#d8576b\"],[0.6666666666666666,\"#ed7953\"],[0.7777777777777778,\"#fb9f3a\"],[0.8888888888888888,\"#fdca26\"],[1.0,\"#f0f921\"]],\"sequentialminus\":[[0.0,\"#0d0887\"],[0.1111111111111111,\"#46039f\"],[0.2222222222222222,\"#7201a8\"],[0.3333333333333333,\"#9c179e\"],[0.4444444444444444,\"#bd3786\"],[0.5555555555555556,\"#d8576b\"],[0.6666666666666666,\"#ed7953\"],[0.7777777777777778,\"#fb9f3a\"],[0.8888888888888888,\"#fdca26\"],[1.0,\"#f0f921\"]]},\"colorway\":[\"#636efa\",\"#EF553B\",\"#00cc96\",\"#ab63fa\",\"#FFA15A\",\"#19d3f3\",\"#FF6692\",\"#B6E880\",\"#FF97FF\",\"#FECB52\"],\"font\":{\"color\":\"#2a3f5f\"},\"geo\":{\"bgcolor\":\"white\",\"lakecolor\":\"white\",\"landcolor\":\"#E5ECF6\",\"showlakes\":true,\"showland\":true,\"subunitcolor\":\"white\"},\"hoverlabel\":{\"align\":\"left\"},\"hovermode\":\"closest\",\"mapbox\":{\"style\":\"light\"},\"paper_bgcolor\":\"white\",\"plot_bgcolor\":\"#E5ECF6\",\"polar\":{\"angularaxis\":{\"gridcolor\":\"white\",\"linecolor\":\"white\",\"ticks\":\"\"},\"bgcolor\":\"#E5ECF6\",\"radialaxis\":{\"gridcolor\":\"white\",\"linecolor\":\"white\",\"ticks\":\"\"}},\"scene\":{\"xaxis\":{\"backgroundcolor\":\"#E5ECF6\",\"gridcolor\":\"white\",\"gridwidth\":2,\"linecolor\":\"white\",\"showbackground\":true,\"ticks\":\"\",\"zerolinecolor\":\"white\"},\"yaxis\":{\"backgroundcolor\":\"#E5ECF6\",\"gridcolor\":\"white\",\"gridwidth\":2,\"linecolor\":\"white\",\"showbackground\":true,\"ticks\":\"\",\"zerolinecolor\":\"white\"},\"zaxis\":{\"backgroundcolor\":\"#E5ECF6\",\"gridcolor\":\"white\",\"gridwidth\":2,\"linecolor\":\"white\",\"showbackground\":true,\"ticks\":\"\",\"zerolinecolor\":\"white\"}},\"shapedefaults\":{\"line\":{\"color\":\"#2a3f5f\"}},\"ternary\":{\"aaxis\":{\"gridcolor\":\"white\",\"linecolor\":\"white\",\"ticks\":\"\"},\"baxis\":{\"gridcolor\":\"white\",\"linecolor\":\"white\",\"ticks\":\"\"},\"bgcolor\":\"#E5ECF6\",\"caxis\":{\"gridcolor\":\"white\",\"linecolor\":\"white\",\"ticks\":\"\"}},\"title\":{\"x\":0.05},\"xaxis\":{\"automargin\":true,\"gridcolor\":\"white\",\"linecolor\":\"white\",\"ticks\":\"\",\"title\":{\"standoff\":15},\"zerolinecolor\":\"white\",\"zerolinewidth\":2},\"yaxis\":{\"automargin\":true,\"gridcolor\":\"white\",\"linecolor\":\"white\",\"ticks\":\"\",\"title\":{\"standoff\":15},\"zerolinecolor\":\"white\",\"zerolinewidth\":2}}},\"title\":{\"text\":\"BRM to BIM\"},\"uniformtext\":{\"minsize\":12,\"mode\":\"show\"},\"width\":1650},                        {\"responsive\": true}                    ).then(function(){\n",
       "                            \n",
       "var gd = document.getElementById('dd0a073e-5c2c-4232-90d0-6057f1b9ee66');\n",
       "var x = new MutationObserver(function (mutations, observer) {{\n",
       "        var display = window.getComputedStyle(gd).display;\n",
       "        if (!display || display === 'none') {{\n",
       "            console.log([gd, 'removed!']);\n",
       "            Plotly.purge(gd);\n",
       "            observer.disconnect();\n",
       "        }}\n",
       "}});\n",
       "\n",
       "// Listen for the removal of the full notebook cells\n",
       "var notebookContainer = gd.closest('#notebook-container');\n",
       "if (notebookContainer) {{\n",
       "    x.observe(notebookContainer, {childList: true});\n",
       "}}\n",
       "\n",
       "// Listen for the clearing of the current output cell\n",
       "var outputEl = gd.closest('.output');\n",
       "if (outputEl) {{\n",
       "    x.observe(outputEl, {childList: true});\n",
       "}}\n",
       "\n",
       "                        })                };                });            </script>        </div>"
      ]
     },
     "metadata": {},
     "output_type": "display_data"
    }
   ],
   "source": [
    "#sorting has no effect on where the boxes go - I think it's alphabetical?\n",
    "\n",
    "fig=px.treemap(relationshipDf,path=['Parent','Name'],values='value',title ='BRM to BIM',color='Color',color_discrete_map=colorDict)\n",
    "fig.update_traces(root_color='lightblue')\n",
    "#fig.update_layout(treemapcolorway=['blue'])\n",
    "fig.update_layout(uniformtext=dict(minsize=12, mode='show'))\n",
    "fig.update_layout(autosize=False,width=1650,height=800)\n",
    "\n",
    "# to export use the line below. Scale = resolution. if <1 it decreases dimensonality. >1 increases\n",
    "#fig.write_image('figure.png', scale=2)\n",
    " \n",
    "fig.show()\n",
    "\n",
    "fig.write_html('test.html')"
   ]
  },
  {
   "cell_type": "code",
   "execution_count": 15,
   "id": "2b2624b1",
   "metadata": {},
   "outputs": [],
   "source": [
    "#output the csv to use for d3 - this is not in use currently\n",
    "\n",
    "#relationshipDf.to_csv('BRM Tree Data.csv',sep=',',index=False,encoding='utf-8')"
   ]
  },
  {
   "cell_type": "code",
   "execution_count": 136,
   "id": "297a5779",
   "metadata": {},
   "outputs": [
    {
     "data": {
      "text/plain": [
       "array(['Dinner'], dtype=object)"
      ]
     },
     "execution_count": 136,
     "metadata": {},
     "output_type": "execute_result"
    }
   ],
   "source": [
    "test=px.data.tips().head()\n",
    "test['time'].unique()"
   ]
  },
  {
   "cell_type": "code",
   "execution_count": 16,
   "id": "c3bff073",
   "metadata": {},
   "outputs": [],
   "source": [
    "#create a function to find the order from least to greatest # of chars \n",
    "#need to account for length of kids AND length of parent name for the comparison"
   ]
  },
  {
   "cell_type": "code",
   "execution_count": null,
   "id": "dca43e1b",
   "metadata": {},
   "outputs": [],
   "source": [
    "#current parents with no children - manually validated \n",
    "# Legal Guidance & Representation - ok\n",
    "# Coordinate Homeless Program - ok \n",
    "# Veterans Employment & Retention - ok"
   ]
  },
  {
   "cell_type": "code",
   "execution_count": 138,
   "id": "3f6ac439",
   "metadata": {},
   "outputs": [
    {
     "data": {
      "text/plain": [
       "0                      Process Benefit\n",
       "1                      Process Benefit\n",
       "2                      Process Benefit\n",
       "3                      Process Benefit\n",
       "4                    Health Care Admin\n",
       "                    ...               \n",
       "126    Travel, Relocation & Fleet Mgmt\n",
       "127    Travel, Relocation & Fleet Mgmt\n",
       "128    Travel, Relocation & Fleet Mgmt\n",
       "129    Travel, Relocation & Fleet Mgmt\n",
       "130    Travel, Relocation & Fleet Mgmt\n",
       "Name: Parent, Length: 131, dtype: object"
      ]
     },
     "execution_count": 138,
     "metadata": {},
     "output_type": "execute_result"
    }
   ],
   "source": [
    "parentList"
   ]
  },
  {
   "cell_type": "code",
   "execution_count": 17,
   "id": "6e5c92eb",
   "metadata": {},
   "outputs": [],
   "source": [
    "#get the length of all children \n",
    "data=[]\n",
    "for currentParent in parentList:#for each parent\n",
    "    tempData=relationshipDf[relationshipDf['Parent']==currentParent]\n",
    "    tempNKids=len(tempData)\n",
    "    tempNames=list(tempData['Name'])\n",
    "    tempSum=sum(len(s) for s in tempNames)\n",
    "    tempLen=tempSum+tempNKids*2 #for now, the margin is tempNKids * 2 - can be updated later\n",
    "    \n",
    "    tempList=[currentParent,tempNKids,tempSum,tempLen]\n",
    "    data.append(tempList)\n",
    "sortedParents=pd.DataFrame(data, columns=['ParentName','NKids','LenNames','TotalLen'])\n",
    "\n",
    "#for i,row in relationshipDf.iterrows():#for each row"
   ]
  },
  {
   "cell_type": "code",
   "execution_count": 19,
   "id": "beffead4",
   "metadata": {},
   "outputs": [],
   "source": [
    "sortedParents=sortedParents.sort_values('TotalLen')"
   ]
  },
  {
   "cell_type": "code",
   "execution_count": 20,
   "id": "821e1587",
   "metadata": {},
   "outputs": [],
   "source": [
    "#save the sorted parents for Richard \n",
    "sortedParents.to_csv('BIM Parents Sorted.csv',sep=',',index=False,encoding='utf-8')"
   ]
  },
  {
   "cell_type": "code",
   "execution_count": 25,
   "id": "b99be658",
   "metadata": {},
   "outputs": [
    {
     "data": {
      "image/png": "[encoded data removed]",
      "text/plain": [
       "<Figure size 432x288 with 1 Axes>"
      ]
     },
     "metadata": {
      "needs_background": "light"
     },
     "output_type": "display_data"
    }
   ],
   "source": [
    "plt.hist(list(sortedParents['TotalLen']), density=False, bins=30)  \n",
    "plt.ylabel('Probability')\n",
    "plt.xlabel('Data');"
   ]
  },
  {
   "cell_type": "code",
   "execution_count": 40,
   "id": "277208f0",
   "metadata": {},
   "outputs": [
    {
     "name": "stdout",
     "output_type": "stream",
     "text": [
      "[27.8, 0.6]\n",
      "[27.8, 0.6]\n",
      "[27.8, 0.6]\n",
      "[3.8000000000000003, 0.6]\n",
      "[4.6000000000000005, 0.6]\n",
      "[6.0, 0.6]\n",
      "[7.7, 0.6]\n",
      "[8.200000000000001, 0.6]\n",
      "[8.8, 0.6]\n",
      "[8.8, 0.6]\n",
      "[8.9, 0.6]\n",
      "[9.3, 0.6]\n",
      "[9.4, 0.6]\n",
      "[10.3, 0.6]\n",
      "[10.600000000000001, 0.6]\n",
      "[11.9, 0.6]\n",
      "[12.100000000000001, 0.6]\n",
      "[12.100000000000001, 0.6]\n",
      "[12.200000000000001, 0.6]\n",
      "[13.3, 0.6]\n",
      "[13.700000000000001, 0.6]\n",
      "[14.3, 0.6]\n",
      "[14.700000000000001, 0.6]\n",
      "[16.2, 0.6]\n",
      "[16.8, 0.6]\n",
      "[18.6, 0.6]\n",
      "[20.6, 0.6]\n",
      "[24.0, 0.6]\n",
      "[27.8, 0.6]\n"
     ]
    }
   ],
   "source": [
    "#this loop will generate the rectangles later on \n",
    "#later on it needs one row vs multirow logic. currently one row\n",
    "\n",
    "for currentParent in list(sortedParents['ParentName']):#for each parent (A<B order)\n",
    "    #get the set of children\n",
    "    tempData=relationshipDf[relationshipDf['Parent']==currentParent]\n",
    "    if(len(tempData)>0):#if there are children\n",
    "        tempSortedData=list(sortedParents.loc[sortedParents['ParentName']==currentParent].iloc[0])\n",
    "        #print(tempSortedData)\n",
    "    #print(currentParent,len(tempData))\n",
    "    #========data variables\n",
    "    parentLen=len(currentParent)\n",
    "    \n",
    "    #========Plot variables\n",
    "    #parentRect represents the rectangle size that we are calculating now.\n",
    "    parentRect=[0,0]#x,y\n",
    "    #this value represents how large the padding is between text and the edge of a shape\n",
    "    textPadding=.1\n",
    "    #this value represents how tall text is\n",
    "    textHeight=.5\n",
    "    #this value is to scale the number of characters into an x value\n",
    "    charConstant=.8\n",
    "    #this value is the width of the column\n",
    "    colWidth=2\n",
    "    #this value is the height of the column\n",
    "    colHeight=3\n",
    "    #0 kids\n",
    "    \n",
    "    #===========parent rectangle size\n",
    "    if(tempNKids==0):\n",
    "        parentRect[0]=charConstant*parentLen # x if no kids, base it on parent name \n",
    "        parentRect[1]=textHeight+textPadding # y\n",
    "    else:#>0 kids\n",
    "        #need to figure out if this is one long row or stacked rows later on\n",
    "        parentRect[0]=tempSortedData[3]*charConstant# x = sum of all character length + 2 char padding\n",
    "        parentRect[1]=textHeight+textPadding # y\n",
    "    \n",
    "    print(parentRect)\n",
    "    "
   ]
  },
  {
   "cell_type": "code",
   "execution_count": 4,
   "id": "17a9e101",
   "metadata": {},
   "outputs": [
    {
     "data": {
      "image/png": "[encoded data removed]",
      "text/plain": [
       "<Figure size 432x432 with 1 Axes>"
      ]
     },
     "metadata": {
      "needs_background": "light"
     },
     "output_type": "display_data"
    }
   ],
   "source": [
    "plt.figure(figsize=[8, 6],dpi=80)\n",
    "plt.title('Business Information Model')\n",
    "plt.axis('off')\n",
    "plt.show()"
   ]
  },
  {
   "cell_type": "code",
   "execution_count": null,
   "id": "f937c56d",
   "metadata": {},
   "outputs": [],
   "source": []
  }
 ],
 "metadata": {
  "kernelspec": {
   "display_name": "Python 3",
   "language": "python",
   "name": "python3"
  },
  "language_info": {
   "codemirror_mode": {
    "name": "ipython",
    "version": 3
   },
   "file_extension": ".py",
   "mimetype": "text/x-python",
   "name": "python",
   "nbconvert_exporter": "python",
   "pygments_lexer": "ipython3",
   "version": "3.8.8"
  }
 },
 "nbformat": 4,
 "nbformat_minor": 5
}
